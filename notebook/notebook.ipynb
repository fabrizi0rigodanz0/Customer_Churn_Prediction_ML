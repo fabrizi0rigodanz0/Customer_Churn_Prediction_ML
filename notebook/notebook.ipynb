{
 "cells": [
  {
   "cell_type": "markdown",
   "metadata": {},
   "source": [
    "# FarTrend Customer Segmentation and Recommendation System\n"
   ]
  },
  {
   "cell_type": "markdown",
   "metadata": {},
   "source": [
    "## Background Story  "
   ]
  },
  {
   "cell_type": "markdown",
   "metadata": {},
   "source": [
    "In the ever-evolving landscape of e-commerce, understanding customer behavior has become a cornerstone of strategic marketing. An emerging e-commerce giant, \"FarTrend,\" has experienced rapid growth by offering a wide range of products from fashion to electronics, catering to over 3400 customers across diverse demographics. Despite their success, FarTrend faces challenges in personalizing marketing efforts and predicting future purchasing behavior, crucial for sustaining growth and enhancing customer satisfaction.\n",
    "\n",
    "## The Challenge\n",
    "\n",
    "FarTrend's extensive customer database reveals purchasing patterns over the past year but lacks actionable insights to anticipate the needs of new customers. Traditional marketing strategies have yielded moderate success; however, the leadership team believes that a more data-driven approach could unlock exponential growth.\n",
    "\n",
    "You are working on the marketing intelligence team! Your goal is to develop a  machine learning model that segments FarTrend's customer base and predicts future purchases of new customers within their first year. This model aims to transform FarTrend approach to customer engagement by delivering personalized marketing campaigns and tailored product recommendations."
   ]
  },
  {
   "cell_type": "markdown",
   "metadata": {},
   "source": [
    "## Data Description"
   ]
  },
  {
   "cell_type": "markdown",
   "metadata": {},
   "source": [
    "The IT extracted a dataframe with the main transaction performed by the customers. "
   ]
  },
  {
   "cell_type": "markdown",
   "metadata": {},
   "source": [
    "##### Variables\n",
    "InvoiceNo: Invoice number. A 6-digit integral number uniquely assigned to each transaction. If this code starts with letter 'c', it indicates a cancellation.\n",
    "\n",
    "StockCode: Product (item) code. A 5-digit integral number uniquely assigned to each distinct product.\n",
    "\n",
    "Description: Product (item) name.\n",
    "\n",
    "Quantity: The quantities of each product (item) per transaction. \n",
    "\n",
    "InvoiceDate: The day and time when each transaction was generated.\n",
    "\n",
    "UnitPrice: Product price per unit.\n",
    "\n",
    "CustomerID: Unique customer number. \n",
    "\n",
    "Country: The name of the country where each customer resides."
   ]
  },
  {
   "cell_type": "markdown",
   "metadata": {},
   "source": [
    "## Part 1: Data Quality and Customer Understanding "
   ]
  },
  {
   "cell_type": "markdown",
   "metadata": {},
   "source": [
    "#### P1.1 Exploratory data analysis of the data.\n"
   ]
  },
  {
   "cell_type": "code",
   "execution_count": 1,
   "metadata": {},
   "outputs": [],
   "source": [
    "import numpy as np\n",
    "import pandas as pd\n",
    "import seaborn as sns\n",
    "import matplotlib.pyplot as plt\n",
    "import matplotlib.gridspec as gridspec\n",
    "import plotly.graph_objects as go\n",
    "from matplotlib.colors import LinearSegmentedColormap\n",
    "from matplotlib import colors as mcolors\n",
    "from scipy.stats import linregress\n",
    "from sklearn.ensemble import IsolationForest\n",
    "from sklearn.preprocessing import StandardScaler\n",
    "from sklearn.decomposition import PCA\n",
    "from yellowbrick.cluster import KElbowVisualizer, SilhouetteVisualizer\n",
    "from sklearn.metrics import silhouette_score, calinski_harabasz_score, davies_bouldin_score\n",
    "from sklearn.cluster import KMeans\n",
    "from sklearn.cluster import AgglomerativeClustering\n",
    "from tabulate import tabulate\n",
    "from collections import Counter\n",
    "from mpl_toolkits.mplot3d import Axes3D\n",
    "from sklearn.metrics.pairwise import cosine_similarity\n",
    "from sklearn.model_selection import GroupShuffleSplit"
   ]
  },
  {
   "cell_type": "code",
   "execution_count": 3,
   "metadata": {},
   "outputs": [],
   "source": [
    "#Loading the data\n",
    "df =  pd.read_excel('../data/FarTrend_eRetail.xlsx')"
   ]
  },
  {
   "cell_type": "code",
   "execution_count": 4,
   "metadata": {},
   "outputs": [
    {
     "data": {
      "text/html": [
       "<div>\n",
       "<style scoped>\n",
       "    .dataframe tbody tr th:only-of-type {\n",
       "        vertical-align: middle;\n",
       "    }\n",
       "\n",
       "    .dataframe tbody tr th {\n",
       "        vertical-align: top;\n",
       "    }\n",
       "\n",
       "    .dataframe thead th {\n",
       "        text-align: right;\n",
       "    }\n",
       "</style>\n",
       "<table border=\"1\" class=\"dataframe\">\n",
       "  <thead>\n",
       "    <tr style=\"text-align: right;\">\n",
       "      <th></th>\n",
       "      <th>InvoiceNo</th>\n",
       "      <th>StockCode</th>\n",
       "      <th>Description</th>\n",
       "      <th>Quantity</th>\n",
       "      <th>InvoiceDate</th>\n",
       "      <th>UnitPrice</th>\n",
       "      <th>CustomerID</th>\n",
       "      <th>Country</th>\n",
       "    </tr>\n",
       "  </thead>\n",
       "  <tbody>\n",
       "    <tr>\n",
       "      <th>0</th>\n",
       "      <td>536365</td>\n",
       "      <td>85123A</td>\n",
       "      <td>WHITE HANGING HEART T-LIGHT HOLDER</td>\n",
       "      <td>6</td>\n",
       "      <td>2010-12-01 08:26:00</td>\n",
       "      <td>2.55</td>\n",
       "      <td>17850.0</td>\n",
       "      <td>United Kingdom</td>\n",
       "    </tr>\n",
       "    <tr>\n",
       "      <th>1</th>\n",
       "      <td>536365</td>\n",
       "      <td>71053</td>\n",
       "      <td>WHITE METAL LANTERN</td>\n",
       "      <td>6</td>\n",
       "      <td>2010-12-01 08:26:00</td>\n",
       "      <td>3.39</td>\n",
       "      <td>17850.0</td>\n",
       "      <td>United Kingdom</td>\n",
       "    </tr>\n",
       "    <tr>\n",
       "      <th>2</th>\n",
       "      <td>536365</td>\n",
       "      <td>84406B</td>\n",
       "      <td>CREAM CUPID HEARTS COAT HANGER</td>\n",
       "      <td>8</td>\n",
       "      <td>2010-12-01 08:26:00</td>\n",
       "      <td>2.75</td>\n",
       "      <td>17850.0</td>\n",
       "      <td>United Kingdom</td>\n",
       "    </tr>\n",
       "    <tr>\n",
       "      <th>3</th>\n",
       "      <td>536365</td>\n",
       "      <td>84029G</td>\n",
       "      <td>KNITTED UNION FLAG HOT WATER BOTTLE</td>\n",
       "      <td>6</td>\n",
       "      <td>2010-12-01 08:26:00</td>\n",
       "      <td>3.39</td>\n",
       "      <td>17850.0</td>\n",
       "      <td>United Kingdom</td>\n",
       "    </tr>\n",
       "    <tr>\n",
       "      <th>4</th>\n",
       "      <td>536365</td>\n",
       "      <td>84029E</td>\n",
       "      <td>RED WOOLLY HOTTIE WHITE HEART.</td>\n",
       "      <td>6</td>\n",
       "      <td>2010-12-01 08:26:00</td>\n",
       "      <td>3.39</td>\n",
       "      <td>17850.0</td>\n",
       "      <td>United Kingdom</td>\n",
       "    </tr>\n",
       "    <tr>\n",
       "      <th>5</th>\n",
       "      <td>536365</td>\n",
       "      <td>22752</td>\n",
       "      <td>SET 7 BABUSHKA NESTING BOXES</td>\n",
       "      <td>2</td>\n",
       "      <td>2010-12-01 08:26:00</td>\n",
       "      <td>7.65</td>\n",
       "      <td>17850.0</td>\n",
       "      <td>United Kingdom</td>\n",
       "    </tr>\n",
       "    <tr>\n",
       "      <th>6</th>\n",
       "      <td>536365</td>\n",
       "      <td>21730</td>\n",
       "      <td>GLASS STAR FROSTED T-LIGHT HOLDER</td>\n",
       "      <td>6</td>\n",
       "      <td>2010-12-01 08:26:00</td>\n",
       "      <td>4.25</td>\n",
       "      <td>17850.0</td>\n",
       "      <td>United Kingdom</td>\n",
       "    </tr>\n",
       "    <tr>\n",
       "      <th>7</th>\n",
       "      <td>536366</td>\n",
       "      <td>22633</td>\n",
       "      <td>HAND WARMER UNION JACK</td>\n",
       "      <td>6</td>\n",
       "      <td>2010-12-01 08:28:00</td>\n",
       "      <td>1.85</td>\n",
       "      <td>17850.0</td>\n",
       "      <td>United Kingdom</td>\n",
       "    </tr>\n",
       "    <tr>\n",
       "      <th>8</th>\n",
       "      <td>536366</td>\n",
       "      <td>22632</td>\n",
       "      <td>HAND WARMER RED POLKA DOT</td>\n",
       "      <td>6</td>\n",
       "      <td>2010-12-01 08:28:00</td>\n",
       "      <td>1.85</td>\n",
       "      <td>17850.0</td>\n",
       "      <td>United Kingdom</td>\n",
       "    </tr>\n",
       "    <tr>\n",
       "      <th>9</th>\n",
       "      <td>536367</td>\n",
       "      <td>84879</td>\n",
       "      <td>ASSORTED COLOUR BIRD ORNAMENT</td>\n",
       "      <td>32</td>\n",
       "      <td>2010-12-01 08:34:00</td>\n",
       "      <td>1.69</td>\n",
       "      <td>13047.0</td>\n",
       "      <td>United Kingdom</td>\n",
       "    </tr>\n",
       "  </tbody>\n",
       "</table>\n",
       "</div>"
      ],
      "text/plain": [
       "  InvoiceNo StockCode                          Description  Quantity  \\\n",
       "0    536365    85123A   WHITE HANGING HEART T-LIGHT HOLDER         6   \n",
       "1    536365     71053                  WHITE METAL LANTERN         6   \n",
       "2    536365    84406B       CREAM CUPID HEARTS COAT HANGER         8   \n",
       "3    536365    84029G  KNITTED UNION FLAG HOT WATER BOTTLE         6   \n",
       "4    536365    84029E       RED WOOLLY HOTTIE WHITE HEART.         6   \n",
       "5    536365     22752         SET 7 BABUSHKA NESTING BOXES         2   \n",
       "6    536365     21730    GLASS STAR FROSTED T-LIGHT HOLDER         6   \n",
       "7    536366     22633               HAND WARMER UNION JACK         6   \n",
       "8    536366     22632            HAND WARMER RED POLKA DOT         6   \n",
       "9    536367     84879        ASSORTED COLOUR BIRD ORNAMENT        32   \n",
       "\n",
       "          InvoiceDate  UnitPrice  CustomerID         Country  \n",
       "0 2010-12-01 08:26:00       2.55     17850.0  United Kingdom  \n",
       "1 2010-12-01 08:26:00       3.39     17850.0  United Kingdom  \n",
       "2 2010-12-01 08:26:00       2.75     17850.0  United Kingdom  \n",
       "3 2010-12-01 08:26:00       3.39     17850.0  United Kingdom  \n",
       "4 2010-12-01 08:26:00       3.39     17850.0  United Kingdom  \n",
       "5 2010-12-01 08:26:00       7.65     17850.0  United Kingdom  \n",
       "6 2010-12-01 08:26:00       4.25     17850.0  United Kingdom  \n",
       "7 2010-12-01 08:28:00       1.85     17850.0  United Kingdom  \n",
       "8 2010-12-01 08:28:00       1.85     17850.0  United Kingdom  \n",
       "9 2010-12-01 08:34:00       1.69     13047.0  United Kingdom  "
      ]
     },
     "execution_count": 4,
     "metadata": {},
     "output_type": "execute_result"
    }
   ],
   "source": [
    "#Dataset overview\n",
    "df.head(10)"
   ]
  },
  {
   "cell_type": "code",
   "execution_count": 6,
   "metadata": {},
   "outputs": [
    {
     "name": "stdout",
     "output_type": "stream",
     "text": [
      "<class 'pandas.core.frame.DataFrame'>\n",
      "RangeIndex: 541909 entries, 0 to 541908\n",
      "Data columns (total 8 columns):\n",
      " #   Column       Non-Null Count   Dtype         \n",
      "---  ------       --------------   -----         \n",
      " 0   InvoiceNo    541909 non-null  object        \n",
      " 1   StockCode    541909 non-null  object        \n",
      " 2   Description  540455 non-null  object        \n",
      " 3   Quantity     541909 non-null  int64         \n",
      " 4   InvoiceDate  541909 non-null  datetime64[ns]\n",
      " 5   UnitPrice    541909 non-null  float64       \n",
      " 6   CustomerID   406829 non-null  float64       \n",
      " 7   Country      541909 non-null  object        \n",
      "dtypes: datetime64[ns](1), float64(2), int64(1), object(4)\n",
      "memory usage: 33.1+ MB\n"
     ]
    }
   ],
   "source": [
    "df.info()"
   ]
  },
  {
   "cell_type": "markdown",
   "metadata": {},
   "source": [
    "#### Dataset Overview\n",
    "- **Entries**: 541,909\n",
    "- **Columns**: 8\n",
    "\n",
    "Columns Summary:\n",
    "- **InvoiceNo**: Object type, contains invoice numbers. Represents multiple items per transaction.\n",
    "- **StockCode**: Object type, product code for each item.\n",
    "- **Description**: Object type, product descriptions. Some missing values (540,455 non-null).\n",
    "- **Quantity**: Integer, quantity of products per transaction.\n",
    "- **InvoiceDate**: Datetime, date and time of transaction.\n",
    "- **UnitPrice**: Float, unit price of products.\n",
    "- **CustomerID**: Float, customer ID for transactions. Significant missing values (406,829 non-null).\n",
    "- **Country**: Object type, country of transaction.\n",
    "\n",
    "Preliminary Inferences:\n",
    "- Missing values in **Description** and **CustomerID** need attention.\n",
    "- **InvoiceDate** in datetime format aids time series analysis.\n",
    "- Multiple transactions possible per customer.\n",
    "\n",
    "Next Steps:\n",
    "- Address missing and potentially erroneous data.\n",
    "- Preprocessing for data cleaning and feature creation."
   ]
  },
  {
   "cell_type": "code",
   "execution_count": 7,
   "metadata": {},
   "outputs": [
    {
     "data": {
      "text/html": [
       "<div>\n",
       "<style scoped>\n",
       "    .dataframe tbody tr th:only-of-type {\n",
       "        vertical-align: middle;\n",
       "    }\n",
       "\n",
       "    .dataframe tbody tr th {\n",
       "        vertical-align: top;\n",
       "    }\n",
       "\n",
       "    .dataframe thead th {\n",
       "        text-align: right;\n",
       "    }\n",
       "</style>\n",
       "<table border=\"1\" class=\"dataframe\">\n",
       "  <thead>\n",
       "    <tr style=\"text-align: right;\">\n",
       "      <th></th>\n",
       "      <th>Quantity</th>\n",
       "      <th>UnitPrice</th>\n",
       "      <th>CustomerID</th>\n",
       "    </tr>\n",
       "  </thead>\n",
       "  <tbody>\n",
       "    <tr>\n",
       "      <th>count</th>\n",
       "      <td>541909.000000</td>\n",
       "      <td>541909.000000</td>\n",
       "      <td>406829.000000</td>\n",
       "    </tr>\n",
       "    <tr>\n",
       "      <th>mean</th>\n",
       "      <td>9.552250</td>\n",
       "      <td>4.611114</td>\n",
       "      <td>15287.690570</td>\n",
       "    </tr>\n",
       "    <tr>\n",
       "      <th>std</th>\n",
       "      <td>218.081158</td>\n",
       "      <td>96.759853</td>\n",
       "      <td>1713.600303</td>\n",
       "    </tr>\n",
       "    <tr>\n",
       "      <th>min</th>\n",
       "      <td>-80995.000000</td>\n",
       "      <td>-11062.060000</td>\n",
       "      <td>12346.000000</td>\n",
       "    </tr>\n",
       "    <tr>\n",
       "      <th>25%</th>\n",
       "      <td>1.000000</td>\n",
       "      <td>1.250000</td>\n",
       "      <td>13953.000000</td>\n",
       "    </tr>\n",
       "    <tr>\n",
       "      <th>50%</th>\n",
       "      <td>3.000000</td>\n",
       "      <td>2.080000</td>\n",
       "      <td>15152.000000</td>\n",
       "    </tr>\n",
       "    <tr>\n",
       "      <th>75%</th>\n",
       "      <td>10.000000</td>\n",
       "      <td>4.130000</td>\n",
       "      <td>16791.000000</td>\n",
       "    </tr>\n",
       "    <tr>\n",
       "      <th>max</th>\n",
       "      <td>80995.000000</td>\n",
       "      <td>38970.000000</td>\n",
       "      <td>18287.000000</td>\n",
       "    </tr>\n",
       "  </tbody>\n",
       "</table>\n",
       "</div>"
      ],
      "text/plain": [
       "            Quantity      UnitPrice     CustomerID\n",
       "count  541909.000000  541909.000000  406829.000000\n",
       "mean        9.552250       4.611114   15287.690570\n",
       "std       218.081158      96.759853    1713.600303\n",
       "min    -80995.000000  -11062.060000   12346.000000\n",
       "25%         1.000000       1.250000   13953.000000\n",
       "50%         3.000000       2.080000   15152.000000\n",
       "75%        10.000000       4.130000   16791.000000\n",
       "max     80995.000000   38970.000000   18287.000000"
      ]
     },
     "execution_count": 7,
     "metadata": {},
     "output_type": "execute_result"
    }
   ],
   "source": [
    "#SUMMARY STATISTICS\n",
    "# Summary statistics for numerical variables\n",
    "df.describe()"
   ]
  },
  {
   "cell_type": "markdown",
   "metadata": {},
   "source": [
    "The extreme values in Quantity and UnitPrice suggest the presence of significant outliers or data entry errors that need to be addressed. For example, negative values in UnitPrice could indicate refunds or cancellations, and extreme values in both Quantity and UnitPrice could distort analyses.\n",
    "The difference in count between the total transactions and those with a non-null CustomerID highlights missing customer information in a substantial number of transactions, which could impact customer-specific analyses."
   ]
  },
  {
   "cell_type": "code",
   "execution_count": 8,
   "metadata": {},
   "outputs": [
    {
     "data": {
      "text/html": [
       "<div>\n",
       "<style scoped>\n",
       "    .dataframe tbody tr th:only-of-type {\n",
       "        vertical-align: middle;\n",
       "    }\n",
       "\n",
       "    .dataframe tbody tr th {\n",
       "        vertical-align: top;\n",
       "    }\n",
       "\n",
       "    .dataframe thead th {\n",
       "        text-align: right;\n",
       "    }\n",
       "</style>\n",
       "<table border=\"1\" class=\"dataframe\">\n",
       "  <thead>\n",
       "    <tr style=\"text-align: right;\">\n",
       "      <th></th>\n",
       "      <th>InvoiceNo</th>\n",
       "      <th>StockCode</th>\n",
       "      <th>Description</th>\n",
       "      <th>Country</th>\n",
       "    </tr>\n",
       "  </thead>\n",
       "  <tbody>\n",
       "    <tr>\n",
       "      <th>count</th>\n",
       "      <td>541909</td>\n",
       "      <td>541909</td>\n",
       "      <td>540455</td>\n",
       "      <td>541909</td>\n",
       "    </tr>\n",
       "    <tr>\n",
       "      <th>unique</th>\n",
       "      <td>25900</td>\n",
       "      <td>4070</td>\n",
       "      <td>4223</td>\n",
       "      <td>38</td>\n",
       "    </tr>\n",
       "    <tr>\n",
       "      <th>top</th>\n",
       "      <td>573585</td>\n",
       "      <td>85123A</td>\n",
       "      <td>WHITE HANGING HEART T-LIGHT HOLDER</td>\n",
       "      <td>United Kingdom</td>\n",
       "    </tr>\n",
       "    <tr>\n",
       "      <th>freq</th>\n",
       "      <td>1114</td>\n",
       "      <td>2313</td>\n",
       "      <td>2369</td>\n",
       "      <td>495478</td>\n",
       "    </tr>\n",
       "  </tbody>\n",
       "</table>\n",
       "</div>"
      ],
      "text/plain": [
       "        InvoiceNo StockCode                         Description  \\\n",
       "count      541909    541909                              540455   \n",
       "unique      25900      4070                                4223   \n",
       "top        573585    85123A  WHITE HANGING HEART T-LIGHT HOLDER   \n",
       "freq         1114      2313                                2369   \n",
       "\n",
       "               Country  \n",
       "count           541909  \n",
       "unique              38  \n",
       "top     United Kingdom  \n",
       "freq            495478  "
      ]
     },
     "execution_count": 8,
     "metadata": {},
     "output_type": "execute_result"
    }
   ],
   "source": [
    "#categorical variables\n",
    "df.describe(include='object')"
   ]
  },
  {
   "cell_type": "markdown",
   "metadata": {},
   "source": [
    "**Data Insights**\n",
    "\n",
    "Quantity\n",
    "- **Average**: 9.55 per transaction.\n",
    "- **Range**: -80995 to 80995. Negative values indicate returns/cancellations.\n",
    "- **Standard Deviation**: Large, indicating significant spread and presence of outliers.\n",
    "\n",
    "UnitPrice\n",
    "- **Average**: 4.61.\n",
    "- **Range**: -11062.06 to 38970. Negative values suggest errors.\n",
    "- **Outliers**: Indicated by a large gap between the 75th percentile and maximum values.\n",
    "\n",
    "CustomerID\n",
    "- **Non-null Entries**: 406,829. Missing values present.\n",
    "- **ID Range**: 12346 to 18287.\n",
    "\n",
    "InvoiceNo\n",
    "- **Unique Invoices**: 25,900.\n",
    "- **Most Frequent**: Invoice 573585 appears 1,114 times.\n",
    "\n",
    "StockCode\n",
    "- **Unique Codes**: 4,070.\n",
    "- **Most Frequent**: Code 85123A appears 2,313 times.\n",
    "\n",
    "Description\n",
    "- **Unique Descriptions**: 4,223.\n",
    "- **Most Frequent**: \"WHITE HANGING HEART T-LIGHT HOLDER\" appears 2,369 times.\n",
    "- **Missing Values**: Present and need attention.\n",
    "\n",
    "Country\n",
    "- **Unique Countries**: 38.\n",
    "- **Dominance**: 91.4% of transactions are from the United Kingdom.\n",
    "\n",
    "\n",
    "Product Popularity: The 'WHITE HANGING HEART T-LIGHT HOLDER' is identified as the most popular product. This insight could be valuable for inventory and marketing strategies.\n",
    "Customer Base: The vast majority of transactions are from the United Kingdom, highlighting the importance of this market to FarTrend. However, the presence of 37 other countries in the dataset indicates a significant international customer base that could be explored for expansion or targeted marketing.\n",
    "Data Integrity: The slight discrepancy between the number of unique stock codes and descriptions suggests some data cleaning may be needed to standardize product information."
   ]
  },
  {
   "cell_type": "code",
   "execution_count": 9,
   "metadata": {},
   "outputs": [
    {
     "data": {
      "text/plain": [
       "InvoiceNo           0\n",
       "StockCode           0\n",
       "Description      1454\n",
       "Quantity            0\n",
       "InvoiceDate         0\n",
       "UnitPrice           0\n",
       "CustomerID     135080\n",
       "Country             0\n",
       "dtype: int64"
      ]
     },
     "execution_count": 9,
     "metadata": {},
     "output_type": "execute_result"
    }
   ],
   "source": [
    "#DATA CLEANING\n",
    "#Checking for missing values\n",
    "df.isnull().sum()"
   ]
  },
  {
   "cell_type": "code",
   "execution_count": 10,
   "metadata": {},
   "outputs": [
    {
     "data": {
      "text/plain": [
       "Description     0.268311\n",
       "CustomerID     24.926694\n",
       "dtype: float64"
      ]
     },
     "execution_count": 10,
     "metadata": {},
     "output_type": "execute_result"
    }
   ],
   "source": [
    "#calculating the percentage of missing values\n",
    "missing_data = df.isnull().sum()\n",
    "missing_percentage = (missing_data[missing_data > 0] / df.shape[0]) * 100\n",
    "\n",
    "missing_percentage"
   ]
  },
  {
   "cell_type": "code",
   "execution_count": 11,
   "metadata": {},
   "outputs": [
    {
     "data": {
      "image/png": "[encoded data removed]",
      "text/plain": [
       "<Figure size 800x400 with 1 Axes>"
      ]
     },
     "metadata": {},
     "output_type": "display_data"
    }
   ],
   "source": [
    "#VISUALIZING THE MISSING VALUES\n",
    "plt.figure(figsize=(8, 4))\n",
    "missing_percentage.plot(kind='bar')\n",
    "plt.title('Percentage of missing values per column')\n",
    "plt.ylim(0, 100)\n",
    "plt.ylabel('Percentage')\n",
    "\n",
    "for i in range(missing_percentage.shape[0]):\n",
    "    plt.text(i, missing_percentage[i], f'{missing_percentage[i]:.2f}%', ha='center', va='bottom')\n",
    "plt.show()"
   ]
  },
  {
   "cell_type": "markdown",
   "metadata": {},
   "source": [
    "`CustomerID` (24.93% Missing Values)\n",
    "The CustomerID column is pivotal for our analysis, being the key to linking purchase patterns to individual customers for clustering and personalized recommendations. With a substantial 24.93% of CustomerID values missing, the potential impact on the analysis could be significant. Imputing this large proportion of missing identifiers could introduce a high degree of bias and inaccuracies, undermining the validity of our customer segmentation and predictive modeling efforts.\n",
    "\n",
    "Chosen Approach:\n",
    "\n",
    "**Exclusion of Incomplete Records:** Given the importance of CustomerID in our analysis and the high proportion of missing values, we have chosen to exclude records with missing CustomerIDs. This decision prioritizes the accuracy and integrity of our customer-level analysis, ensuring that subsequent models are built on reliable and complete data.\n",
    "\n",
    "`Description` (0.27% Missing Values)\n",
    "The Description field has a relatively minor incidence of missing data. Despite the low percentage, closer inspection reveals inconsistencies in the data — the same StockCode does not consistently correspond to the same Description, indicating potential data quality issues.\n",
    "\n",
    "Chosen Approach:\n",
    "\n",
    "**Removal of Records with Missing Descriptions:** In light of the inconsistencies and the negligible proportion of missing Description data, we opt to remove these records. This maintains the overall quality and reliability of our dataset and ensures that our analysis is not compromised by underlying data entry errors."
   ]
  },
  {
   "cell_type": "code",
   "execution_count": 12,
   "metadata": {},
   "outputs": [],
   "source": [
    "#Removing the rows with missing values\n",
    "df = df.dropna()"
   ]
  },
  {
   "cell_type": "code",
   "execution_count": 13,
   "metadata": {},
   "outputs": [
    {
     "data": {
      "text/plain": [
       "InvoiceNo      0\n",
       "StockCode      0\n",
       "Description    0\n",
       "Quantity       0\n",
       "InvoiceDate    0\n",
       "UnitPrice      0\n",
       "CustomerID     0\n",
       "Country        0\n",
       "dtype: int64"
      ]
     },
     "execution_count": 13,
     "metadata": {},
     "output_type": "execute_result"
    }
   ],
   "source": [
    "#check for misisng values\n",
    "df.isnull().sum()"
   ]
  },
  {
   "cell_type": "code",
   "execution_count": 14,
   "metadata": {},
   "outputs": [
    {
     "data": {
      "text/plain": [
       "5225"
      ]
     },
     "execution_count": 14,
     "metadata": {},
     "output_type": "execute_result"
    }
   ],
   "source": [
    "#HANDLING DUPLICATES\n",
    "#Checking for duplicates\n",
    "df.duplicated().sum()"
   ]
  },
  {
   "cell_type": "code",
   "execution_count": 15,
   "metadata": {},
   "outputs": [
    {
     "data": {
      "text/html": [
       "<div>\n",
       "<style scoped>\n",
       "    .dataframe tbody tr th:only-of-type {\n",
       "        vertical-align: middle;\n",
       "    }\n",
       "\n",
       "    .dataframe tbody tr th {\n",
       "        vertical-align: top;\n",
       "    }\n",
       "\n",
       "    .dataframe thead th {\n",
       "        text-align: right;\n",
       "    }\n",
       "</style>\n",
       "<table border=\"1\" class=\"dataframe\">\n",
       "  <thead>\n",
       "    <tr style=\"text-align: right;\">\n",
       "      <th></th>\n",
       "      <th>InvoiceNo</th>\n",
       "      <th>StockCode</th>\n",
       "      <th>Description</th>\n",
       "      <th>Quantity</th>\n",
       "      <th>InvoiceDate</th>\n",
       "      <th>UnitPrice</th>\n",
       "      <th>CustomerID</th>\n",
       "      <th>Country</th>\n",
       "    </tr>\n",
       "  </thead>\n",
       "  <tbody>\n",
       "    <tr>\n",
       "      <th>517</th>\n",
       "      <td>536409</td>\n",
       "      <td>21866</td>\n",
       "      <td>UNION JACK FLAG LUGGAGE TAG</td>\n",
       "      <td>1</td>\n",
       "      <td>2010-12-01 11:45:00</td>\n",
       "      <td>1.25</td>\n",
       "      <td>17908.0</td>\n",
       "      <td>United Kingdom</td>\n",
       "    </tr>\n",
       "    <tr>\n",
       "      <th>527</th>\n",
       "      <td>536409</td>\n",
       "      <td>22866</td>\n",
       "      <td>HAND WARMER SCOTTY DOG DESIGN</td>\n",
       "      <td>1</td>\n",
       "      <td>2010-12-01 11:45:00</td>\n",
       "      <td>2.10</td>\n",
       "      <td>17908.0</td>\n",
       "      <td>United Kingdom</td>\n",
       "    </tr>\n",
       "    <tr>\n",
       "      <th>537</th>\n",
       "      <td>536409</td>\n",
       "      <td>22900</td>\n",
       "      <td>SET 2 TEA TOWELS I LOVE LONDON</td>\n",
       "      <td>1</td>\n",
       "      <td>2010-12-01 11:45:00</td>\n",
       "      <td>2.95</td>\n",
       "      <td>17908.0</td>\n",
       "      <td>United Kingdom</td>\n",
       "    </tr>\n",
       "    <tr>\n",
       "      <th>539</th>\n",
       "      <td>536409</td>\n",
       "      <td>22111</td>\n",
       "      <td>SCOTTIE DOG HOT WATER BOTTLE</td>\n",
       "      <td>1</td>\n",
       "      <td>2010-12-01 11:45:00</td>\n",
       "      <td>4.95</td>\n",
       "      <td>17908.0</td>\n",
       "      <td>United Kingdom</td>\n",
       "    </tr>\n",
       "    <tr>\n",
       "      <th>555</th>\n",
       "      <td>536412</td>\n",
       "      <td>22327</td>\n",
       "      <td>ROUND SNACK BOXES SET OF 4 SKULLS</td>\n",
       "      <td>1</td>\n",
       "      <td>2010-12-01 11:49:00</td>\n",
       "      <td>2.95</td>\n",
       "      <td>17920.0</td>\n",
       "      <td>United Kingdom</td>\n",
       "    </tr>\n",
       "    <tr>\n",
       "      <th>...</th>\n",
       "      <td>...</td>\n",
       "      <td>...</td>\n",
       "      <td>...</td>\n",
       "      <td>...</td>\n",
       "      <td>...</td>\n",
       "      <td>...</td>\n",
       "      <td>...</td>\n",
       "      <td>...</td>\n",
       "    </tr>\n",
       "    <tr>\n",
       "      <th>541675</th>\n",
       "      <td>581538</td>\n",
       "      <td>22068</td>\n",
       "      <td>BLACK PIRATE TREASURE CHEST</td>\n",
       "      <td>1</td>\n",
       "      <td>2011-12-09 11:34:00</td>\n",
       "      <td>0.39</td>\n",
       "      <td>14446.0</td>\n",
       "      <td>United Kingdom</td>\n",
       "    </tr>\n",
       "    <tr>\n",
       "      <th>541689</th>\n",
       "      <td>581538</td>\n",
       "      <td>23318</td>\n",
       "      <td>BOX OF 6 MINI VINTAGE CRACKERS</td>\n",
       "      <td>1</td>\n",
       "      <td>2011-12-09 11:34:00</td>\n",
       "      <td>2.49</td>\n",
       "      <td>14446.0</td>\n",
       "      <td>United Kingdom</td>\n",
       "    </tr>\n",
       "    <tr>\n",
       "      <th>541692</th>\n",
       "      <td>581538</td>\n",
       "      <td>22992</td>\n",
       "      <td>REVOLVER WOODEN RULER</td>\n",
       "      <td>1</td>\n",
       "      <td>2011-12-09 11:34:00</td>\n",
       "      <td>1.95</td>\n",
       "      <td>14446.0</td>\n",
       "      <td>United Kingdom</td>\n",
       "    </tr>\n",
       "    <tr>\n",
       "      <th>541699</th>\n",
       "      <td>581538</td>\n",
       "      <td>22694</td>\n",
       "      <td>WICKER STAR</td>\n",
       "      <td>1</td>\n",
       "      <td>2011-12-09 11:34:00</td>\n",
       "      <td>2.10</td>\n",
       "      <td>14446.0</td>\n",
       "      <td>United Kingdom</td>\n",
       "    </tr>\n",
       "    <tr>\n",
       "      <th>541701</th>\n",
       "      <td>581538</td>\n",
       "      <td>23343</td>\n",
       "      <td>JUMBO BAG VINTAGE CHRISTMAS</td>\n",
       "      <td>1</td>\n",
       "      <td>2011-12-09 11:34:00</td>\n",
       "      <td>2.08</td>\n",
       "      <td>14446.0</td>\n",
       "      <td>United Kingdom</td>\n",
       "    </tr>\n",
       "  </tbody>\n",
       "</table>\n",
       "<p>5225 rows × 8 columns</p>\n",
       "</div>"
      ],
      "text/plain": [
       "       InvoiceNo StockCode                        Description  Quantity  \\\n",
       "517       536409     21866        UNION JACK FLAG LUGGAGE TAG         1   \n",
       "527       536409     22866      HAND WARMER SCOTTY DOG DESIGN         1   \n",
       "537       536409     22900    SET 2 TEA TOWELS I LOVE LONDON          1   \n",
       "539       536409     22111       SCOTTIE DOG HOT WATER BOTTLE         1   \n",
       "555       536412     22327  ROUND SNACK BOXES SET OF 4 SKULLS         1   \n",
       "...          ...       ...                                ...       ...   \n",
       "541675    581538     22068        BLACK PIRATE TREASURE CHEST         1   \n",
       "541689    581538     23318     BOX OF 6 MINI VINTAGE CRACKERS         1   \n",
       "541692    581538     22992             REVOLVER WOODEN RULER          1   \n",
       "541699    581538     22694                       WICKER STAR          1   \n",
       "541701    581538     23343       JUMBO BAG VINTAGE CHRISTMAS          1   \n",
       "\n",
       "               InvoiceDate  UnitPrice  CustomerID         Country  \n",
       "517    2010-12-01 11:45:00       1.25     17908.0  United Kingdom  \n",
       "527    2010-12-01 11:45:00       2.10     17908.0  United Kingdom  \n",
       "537    2010-12-01 11:45:00       2.95     17908.0  United Kingdom  \n",
       "539    2010-12-01 11:45:00       4.95     17908.0  United Kingdom  \n",
       "555    2010-12-01 11:49:00       2.95     17920.0  United Kingdom  \n",
       "...                    ...        ...         ...             ...  \n",
       "541675 2011-12-09 11:34:00       0.39     14446.0  United Kingdom  \n",
       "541689 2011-12-09 11:34:00       2.49     14446.0  United Kingdom  \n",
       "541692 2011-12-09 11:34:00       1.95     14446.0  United Kingdom  \n",
       "541699 2011-12-09 11:34:00       2.10     14446.0  United Kingdom  \n",
       "541701 2011-12-09 11:34:00       2.08     14446.0  United Kingdom  \n",
       "\n",
       "[5225 rows x 8 columns]"
      ]
     },
     "execution_count": 15,
     "metadata": {},
     "output_type": "execute_result"
    }
   ],
   "source": [
    "duplicates = df[df.duplicated()]\n",
    "duplicates"
   ]
  },
  {
   "cell_type": "markdown",
   "metadata": {},
   "source": [
    "Duplicate Records Strategy\n",
    "\n",
    "Due to the nature of our dataset, the presence of rows that are completely identical across all fields, including transaction times, is likely indicative of data entry errors rather than legitimate, repeated transactions. Such duplicates can skew our analysis by introducing noise and inaccuracies, especially when developing customer segmentation and product recommendation systems.\n",
    "\n",
    "**Action Plan:**\n",
    "\n",
    "To ensure the integrity of our analysis and the accuracy of our models, we will remove these duplicate rows from our dataset. This step is crucial for:\n",
    "\n",
    "- **Enhancing Data Quality**: Ensuring that our dataset reflects unique transactions, thereby providing a more accurate view of customer behavior.\n",
    "- **Improving Model Accuracy**: Cleaner data leads to more reliable clustering and predictions, essential for our goal of personalized customer engagement and effective product recommendations.\n",
    "\n",
    "By purifying our dataset of these duplicates, we pave the way for more precise insights and actionable strategies."
   ]
  },
  {
   "cell_type": "code",
   "execution_count": 16,
   "metadata": {},
   "outputs": [],
   "source": [
    "#removing the duplicates\n",
    "df = df.drop_duplicates()"
   ]
  },
  {
   "cell_type": "code",
   "execution_count": 17,
   "metadata": {},
   "outputs": [
    {
     "data": {
      "text/plain": [
       "(401604, 8)"
      ]
     },
     "execution_count": 17,
     "metadata": {},
     "output_type": "execute_result"
    }
   ],
   "source": [
    "df.shape"
   ]
  },
  {
   "cell_type": "code",
   "execution_count": 18,
   "metadata": {},
   "outputs": [],
   "source": [
    "#EDA OF THE CATEGORICAL VARIABLES: InvoiceNo, StockCode, Description, Country"
   ]
  },
  {
   "cell_type": "code",
   "execution_count": 19,
   "metadata": {},
   "outputs": [
    {
     "data": {
      "text/plain": [
       "576339     542\n",
       "579196     533\n",
       "580727     529\n",
       "578270     442\n",
       "573576     435\n",
       "          ... \n",
       "C560912      1\n",
       "560913       1\n",
       "560917       1\n",
       "572879       1\n",
       "553049       1\n",
       "Name: InvoiceNo, Length: 22190, dtype: int64"
      ]
     },
     "execution_count": 19,
     "metadata": {},
     "output_type": "execute_result"
    }
   ],
   "source": [
    "#InvoiceNo\n",
    "df['InvoiceNo'].value_counts()"
   ]
  },
  {
   "cell_type": "code",
   "execution_count": 20,
   "metadata": {},
   "outputs": [
    {
     "data": {
      "text/html": [
       "<div>\n",
       "<style scoped>\n",
       "    .dataframe tbody tr th:only-of-type {\n",
       "        vertical-align: middle;\n",
       "    }\n",
       "\n",
       "    .dataframe tbody tr th {\n",
       "        vertical-align: top;\n",
       "    }\n",
       "\n",
       "    .dataframe thead th {\n",
       "        text-align: right;\n",
       "    }\n",
       "</style>\n",
       "<table border=\"1\" class=\"dataframe\">\n",
       "  <thead>\n",
       "    <tr style=\"text-align: right;\">\n",
       "      <th></th>\n",
       "      <th>InvoiceNo</th>\n",
       "      <th>StockCode</th>\n",
       "      <th>Description</th>\n",
       "      <th>Quantity</th>\n",
       "      <th>InvoiceDate</th>\n",
       "      <th>UnitPrice</th>\n",
       "      <th>CustomerID</th>\n",
       "      <th>Country</th>\n",
       "    </tr>\n",
       "  </thead>\n",
       "  <tbody>\n",
       "    <tr>\n",
       "      <th>141</th>\n",
       "      <td>C536379</td>\n",
       "      <td>D</td>\n",
       "      <td>Discount</td>\n",
       "      <td>-1</td>\n",
       "      <td>2010-12-01 09:41:00</td>\n",
       "      <td>27.50</td>\n",
       "      <td>14527.0</td>\n",
       "      <td>United Kingdom</td>\n",
       "    </tr>\n",
       "    <tr>\n",
       "      <th>154</th>\n",
       "      <td>C536383</td>\n",
       "      <td>35004C</td>\n",
       "      <td>SET OF 3 COLOURED  FLYING DUCKS</td>\n",
       "      <td>-1</td>\n",
       "      <td>2010-12-01 09:49:00</td>\n",
       "      <td>4.65</td>\n",
       "      <td>15311.0</td>\n",
       "      <td>United Kingdom</td>\n",
       "    </tr>\n",
       "    <tr>\n",
       "      <th>235</th>\n",
       "      <td>C536391</td>\n",
       "      <td>22556</td>\n",
       "      <td>PLASTERS IN TIN CIRCUS PARADE</td>\n",
       "      <td>-12</td>\n",
       "      <td>2010-12-01 10:24:00</td>\n",
       "      <td>1.65</td>\n",
       "      <td>17548.0</td>\n",
       "      <td>United Kingdom</td>\n",
       "    </tr>\n",
       "    <tr>\n",
       "      <th>236</th>\n",
       "      <td>C536391</td>\n",
       "      <td>21984</td>\n",
       "      <td>PACK OF 12 PINK PAISLEY TISSUES</td>\n",
       "      <td>-24</td>\n",
       "      <td>2010-12-01 10:24:00</td>\n",
       "      <td>0.29</td>\n",
       "      <td>17548.0</td>\n",
       "      <td>United Kingdom</td>\n",
       "    </tr>\n",
       "    <tr>\n",
       "      <th>237</th>\n",
       "      <td>C536391</td>\n",
       "      <td>21983</td>\n",
       "      <td>PACK OF 12 BLUE PAISLEY TISSUES</td>\n",
       "      <td>-24</td>\n",
       "      <td>2010-12-01 10:24:00</td>\n",
       "      <td>0.29</td>\n",
       "      <td>17548.0</td>\n",
       "      <td>United Kingdom</td>\n",
       "    </tr>\n",
       "    <tr>\n",
       "      <th>...</th>\n",
       "      <td>...</td>\n",
       "      <td>...</td>\n",
       "      <td>...</td>\n",
       "      <td>...</td>\n",
       "      <td>...</td>\n",
       "      <td>...</td>\n",
       "      <td>...</td>\n",
       "      <td>...</td>\n",
       "    </tr>\n",
       "    <tr>\n",
       "      <th>540449</th>\n",
       "      <td>C581490</td>\n",
       "      <td>23144</td>\n",
       "      <td>ZINC T-LIGHT HOLDER STARS SMALL</td>\n",
       "      <td>-11</td>\n",
       "      <td>2011-12-09 09:57:00</td>\n",
       "      <td>0.83</td>\n",
       "      <td>14397.0</td>\n",
       "      <td>United Kingdom</td>\n",
       "    </tr>\n",
       "    <tr>\n",
       "      <th>541541</th>\n",
       "      <td>C581499</td>\n",
       "      <td>M</td>\n",
       "      <td>Manual</td>\n",
       "      <td>-1</td>\n",
       "      <td>2011-12-09 10:28:00</td>\n",
       "      <td>224.69</td>\n",
       "      <td>15498.0</td>\n",
       "      <td>United Kingdom</td>\n",
       "    </tr>\n",
       "    <tr>\n",
       "      <th>541715</th>\n",
       "      <td>C581568</td>\n",
       "      <td>21258</td>\n",
       "      <td>VICTORIAN SEWING BOX LARGE</td>\n",
       "      <td>-5</td>\n",
       "      <td>2011-12-09 11:57:00</td>\n",
       "      <td>10.95</td>\n",
       "      <td>15311.0</td>\n",
       "      <td>United Kingdom</td>\n",
       "    </tr>\n",
       "    <tr>\n",
       "      <th>541716</th>\n",
       "      <td>C581569</td>\n",
       "      <td>84978</td>\n",
       "      <td>HANGING HEART JAR T-LIGHT HOLDER</td>\n",
       "      <td>-1</td>\n",
       "      <td>2011-12-09 11:58:00</td>\n",
       "      <td>1.25</td>\n",
       "      <td>17315.0</td>\n",
       "      <td>United Kingdom</td>\n",
       "    </tr>\n",
       "    <tr>\n",
       "      <th>541717</th>\n",
       "      <td>C581569</td>\n",
       "      <td>20979</td>\n",
       "      <td>36 PENCILS TUBE RED RETROSPOT</td>\n",
       "      <td>-5</td>\n",
       "      <td>2011-12-09 11:58:00</td>\n",
       "      <td>1.25</td>\n",
       "      <td>17315.0</td>\n",
       "      <td>United Kingdom</td>\n",
       "    </tr>\n",
       "  </tbody>\n",
       "</table>\n",
       "<p>8872 rows × 8 columns</p>\n",
       "</div>"
      ],
      "text/plain": [
       "       InvoiceNo StockCode                       Description  Quantity  \\\n",
       "141      C536379         D                          Discount        -1   \n",
       "154      C536383    35004C   SET OF 3 COLOURED  FLYING DUCKS        -1   \n",
       "235      C536391     22556    PLASTERS IN TIN CIRCUS PARADE        -12   \n",
       "236      C536391     21984  PACK OF 12 PINK PAISLEY TISSUES        -24   \n",
       "237      C536391     21983  PACK OF 12 BLUE PAISLEY TISSUES        -24   \n",
       "...          ...       ...                               ...       ...   \n",
       "540449   C581490     23144   ZINC T-LIGHT HOLDER STARS SMALL       -11   \n",
       "541541   C581499         M                            Manual        -1   \n",
       "541715   C581568     21258        VICTORIAN SEWING BOX LARGE        -5   \n",
       "541716   C581569     84978  HANGING HEART JAR T-LIGHT HOLDER        -1   \n",
       "541717   C581569     20979     36 PENCILS TUBE RED RETROSPOT        -5   \n",
       "\n",
       "               InvoiceDate  UnitPrice  CustomerID         Country  \n",
       "141    2010-12-01 09:41:00      27.50     14527.0  United Kingdom  \n",
       "154    2010-12-01 09:49:00       4.65     15311.0  United Kingdom  \n",
       "235    2010-12-01 10:24:00       1.65     17548.0  United Kingdom  \n",
       "236    2010-12-01 10:24:00       0.29     17548.0  United Kingdom  \n",
       "237    2010-12-01 10:24:00       0.29     17548.0  United Kingdom  \n",
       "...                    ...        ...         ...             ...  \n",
       "540449 2011-12-09 09:57:00       0.83     14397.0  United Kingdom  \n",
       "541541 2011-12-09 10:28:00     224.69     15498.0  United Kingdom  \n",
       "541715 2011-12-09 11:57:00      10.95     15311.0  United Kingdom  \n",
       "541716 2011-12-09 11:58:00       1.25     17315.0  United Kingdom  \n",
       "541717 2011-12-09 11:58:00       1.25     17315.0  United Kingdom  \n",
       "\n",
       "[8872 rows x 8 columns]"
      ]
     },
     "execution_count": 20,
     "metadata": {},
     "output_type": "execute_result"
    }
   ],
   "source": [
    "#let's check fo the cancelled orders \n",
    "cancelled_orders = df[df['InvoiceNo'].str.contains('C', na=False)]\n",
    "cancelled_orders"
   ]
  },
  {
   "cell_type": "code",
   "execution_count": null,
   "metadata": {},
   "outputs": [
    {
     "data": {
      "text/plain": [
       "2.209141343213713"
      ]
     },
     "metadata": {},
     "output_type": "display_data"
    }
   ],
   "source": [
    "regular_transactions = df[~df['InvoiceNo'].str.contains('C', na=False)]\n",
    "\n",
    "#calculating the percentage of cancelled orders\n",
    "cancelled_percentage = (cancelled_orders.shape[0] / df.shape[0]) * 100\n",
    "cancelled_percentage"
   ]
  },
  {
   "cell_type": "code",
   "execution_count": null,
   "metadata": {},
   "outputs": [],
   "source": [
    "#change the type of the InvoiceNo to string\n",
    "df['InvoiceNo'] = df['InvoiceNo'].astype(str)"
   ]
  },
  {
   "cell_type": "code",
   "execution_count": null,
   "metadata": {},
   "outputs": [
    {
     "data": {
      "text/plain": [
       "0    392732\n",
       "1      8872\n",
       "Name: Cancelled, dtype: int64"
      ]
     },
     "metadata": {},
     "output_type": "display_data"
    }
   ],
   "source": [
    "#creation of a new column to indicate the cancelled orders\n",
    "df['Cancelled']= df['InvoiceNo'].apply(lambda x: 1 if 'C' in x else 0)\n",
    "df['Cancelled'].value_counts()"
   ]
  },
  {
   "cell_type": "code",
   "execution_count": null,
   "metadata": {},
   "outputs": [
    {
     "data": {
      "text/html": [
       "<div>\n",
       "<style scoped>\n",
       "    .dataframe tbody tr th:only-of-type {\n",
       "        vertical-align: middle;\n",
       "    }\n",
       "\n",
       "    .dataframe tbody tr th {\n",
       "        vertical-align: top;\n",
       "    }\n",
       "\n",
       "    .dataframe thead th {\n",
       "        text-align: right;\n",
       "    }\n",
       "</style>\n",
       "<table border=\"1\" class=\"dataframe\">\n",
       "  <thead>\n",
       "    <tr style=\"text-align: right;\">\n",
       "      <th></th>\n",
       "      <th>Quantity</th>\n",
       "      <th>UnitPrice</th>\n",
       "      <th>Cancelled</th>\n",
       "    </tr>\n",
       "  </thead>\n",
       "  <tbody>\n",
       "    <tr>\n",
       "      <th>count</th>\n",
       "      <td>8872.000000</td>\n",
       "      <td>8872.000000</td>\n",
       "      <td>8872.0</td>\n",
       "    </tr>\n",
       "    <tr>\n",
       "      <th>mean</th>\n",
       "      <td>-30.774910</td>\n",
       "      <td>18.899512</td>\n",
       "      <td>1.0</td>\n",
       "    </tr>\n",
       "    <tr>\n",
       "      <th>std</th>\n",
       "      <td>1172.249902</td>\n",
       "      <td>445.190864</td>\n",
       "      <td>0.0</td>\n",
       "    </tr>\n",
       "    <tr>\n",
       "      <th>min</th>\n",
       "      <td>-80995.000000</td>\n",
       "      <td>0.010000</td>\n",
       "      <td>1.0</td>\n",
       "    </tr>\n",
       "    <tr>\n",
       "      <th>25%</th>\n",
       "      <td>-6.000000</td>\n",
       "      <td>1.450000</td>\n",
       "      <td>1.0</td>\n",
       "    </tr>\n",
       "    <tr>\n",
       "      <th>50%</th>\n",
       "      <td>-2.000000</td>\n",
       "      <td>2.950000</td>\n",
       "      <td>1.0</td>\n",
       "    </tr>\n",
       "    <tr>\n",
       "      <th>75%</th>\n",
       "      <td>-1.000000</td>\n",
       "      <td>4.950000</td>\n",
       "      <td>1.0</td>\n",
       "    </tr>\n",
       "    <tr>\n",
       "      <th>max</th>\n",
       "      <td>-1.000000</td>\n",
       "      <td>38970.000000</td>\n",
       "      <td>1.0</td>\n",
       "    </tr>\n",
       "  </tbody>\n",
       "</table>\n",
       "</div>"
      ],
      "text/plain": [
       "           Quantity     UnitPrice  Cancelled\n",
       "count   8872.000000   8872.000000     8872.0\n",
       "mean     -30.774910     18.899512        1.0\n",
       "std     1172.249902    445.190864        0.0\n",
       "min   -80995.000000      0.010000        1.0\n",
       "25%       -6.000000      1.450000        1.0\n",
       "50%       -2.000000      2.950000        1.0\n",
       "75%       -1.000000      4.950000        1.0\n",
       "max       -1.000000  38970.000000        1.0"
      ]
     },
     "metadata": {},
     "output_type": "display_data"
    }
   ],
   "source": [
    "#analysis of the rows where cancelled = 1\n",
    "cancelled_orders = df[df['Cancelled'] == 1]\n",
    "cancelled_orders.describe().drop('CustomerID', axis=1) #axis = 1 to drop the column"
   ]
  },
  {
   "cell_type": "markdown",
   "metadata": {},
   "source": [
    "**Quantity Analysis:**\n",
    "- The Quantity column for cancellations has a large standard deviation, indicating a wide spread of the quantity of items involved in cancellations.\n",
    "- The minimum value of -80,995 stands out as an extreme outlier, suggesting a very large bulk order was cancelled.\n",
    "- The interquartile range (from the 25th percentile to the 75th percentile) suggests that most cancellations involve returning between 1 to 6 items.\n",
    "\n",
    "**UnitPrice Analysis:**\n",
    "- The standard deviation for UnitPrice is quite large, indicating significant variability in the prices of items involved in cancellations.\n",
    "- The maximum UnitPrice of 38,970 is an outlier, suggesting that at least one cancellation involved an item of exceptionally high value.\n",
    "- The more typical range of UnitPrice for cancelled orders (from the 25th to the 75th percentile) is between 1.45 and 4.95, which might represent the more common items involved in cancellations."
   ]
  },
  {
   "cell_type": "code",
   "execution_count": null,
   "metadata": {},
   "outputs": [
    {
     "data": {
      "text/plain": [
       "85123A    2065\n",
       "22423     1894\n",
       "85099B    1659\n",
       "47566     1409\n",
       "84879     1405\n",
       "          ... \n",
       "90104        1\n",
       "90135        1\n",
       "90027D       1\n",
       "90027A       1\n",
       "84746        1\n",
       "Name: StockCode, Length: 3684, dtype: int64"
      ]
     },
     "metadata": {},
     "output_type": "display_data"
    }
   ],
   "source": [
    "#StockCode\n",
    "df['StockCode'].value_counts() #3684 unique stock codes"
   ]
  },
  {
   "cell_type": "code",
   "execution_count": null,
   "metadata": {},
   "outputs": [
    {
     "data": {
      "image/png": "[encoded data removed]",
      "text/plain": [
       "<Figure size 1000x600 with 1 Axes>"
      ]
     },
     "metadata": {},
     "output_type": "display_data"
    }
   ],
   "source": [
    "#plot the top 10 most frequent stock codes\n",
    "plt.figure(figsize=(10, 6))\n",
    "df['StockCode'].value_counts().head(10).plot(kind='bar')\n",
    "plt.title('Top 10 most frequent stock codes')\n",
    "plt.xlabel('Stock code')\n",
    "plt.ylabel('Frequency')\n",
    "plt.show()"
   ]
  },
  {
   "cell_type": "code",
   "execution_count": null,
   "metadata": {},
   "outputs": [
    {
     "name": "stdout",
     "output_type": "stream",
     "text": [
      "5    3676\n",
      "0       7\n",
      "1       1\n",
      "dtype: int64\n"
     ]
    }
   ],
   "source": [
    "#We notice that the there is a code named POST, let's ceck for other codes that are not numeric\n",
    "# Finding the number of numeric characters in each unique stock code\n",
    "uni_stock_codes = df['StockCode'].unique()\n",
    "numeric_char_counts_in_unique_codes = pd.Series(uni_stock_codes).apply(lambda x: sum(c.isdigit() for c in str(x))).value_counts()\n",
    "\n",
    "#printing the values counts for unique stok codes\n",
    "print(numeric_char_counts_in_unique_codes)\n"
   ]
  },
  {
   "cell_type": "code",
   "execution_count": null,
   "metadata": {},
   "outputs": [
    {
     "name": "stdout",
     "output_type": "stream",
     "text": [
      "85123A    2065\n",
      "85099B    1659\n",
      "POST      1196\n",
      "82494L     832\n",
      "85099C     670\n",
      "          ... \n",
      "84802B       1\n",
      "84809B       1\n",
      "90024C       1\n",
      "90024F       1\n",
      "90214Z       1\n",
      "Name: StockCode, Length: 886, dtype: int64\n"
     ]
    }
   ],
   "source": [
    "df['StockCode'] = df['StockCode'].astype(str)\n",
    "\n",
    "# Identify non-numeric stock codes using a regular expression\n",
    "non_numeric_codes = df[~df['StockCode'].str.match('^\\d+$')]\n",
    "\n",
    "# Display the unique non-numeric stock codes and their occurrences\n",
    "print(non_numeric_codes['StockCode'].value_counts())"
   ]
  },
  {
   "cell_type": "code",
   "execution_count": null,
   "metadata": {},
   "outputs": [
    {
     "name": "stdout",
     "output_type": "stream",
     "text": [
      "POST\n",
      "D\n",
      "C2\n",
      "M\n",
      "BANK CHARGES\n",
      "PADS\n",
      "DOT\n",
      "CRUK\n"
     ]
    }
   ],
   "source": [
    "anomalous_stock_codes = [code for code in uni_stock_codes if sum(c.isdigit() for c in str(code)) in (0, 1)]\n",
    "for code in anomalous_stock_codes:\n",
    "    print(code)"
   ]
  },
  {
   "cell_type": "code",
   "execution_count": null,
   "metadata": {},
   "outputs": [
    {
     "data": {
      "text/html": [
       "<div>\n",
       "<style scoped>\n",
       "    .dataframe tbody tr th:only-of-type {\n",
       "        vertical-align: middle;\n",
       "    }\n",
       "\n",
       "    .dataframe tbody tr th {\n",
       "        vertical-align: top;\n",
       "    }\n",
       "\n",
       "    .dataframe thead th {\n",
       "        text-align: right;\n",
       "    }\n",
       "</style>\n",
       "<table border=\"1\" class=\"dataframe\">\n",
       "  <thead>\n",
       "    <tr style=\"text-align: right;\">\n",
       "      <th></th>\n",
       "      <th>InvoiceNo</th>\n",
       "      <th>StockCode</th>\n",
       "      <th>Description</th>\n",
       "      <th>Quantity</th>\n",
       "      <th>InvoiceDate</th>\n",
       "      <th>UnitPrice</th>\n",
       "      <th>CustomerID</th>\n",
       "      <th>Country</th>\n",
       "      <th>Cancelled</th>\n",
       "    </tr>\n",
       "  </thead>\n",
       "  <tbody>\n",
       "    <tr>\n",
       "      <th>45</th>\n",
       "      <td>536370</td>\n",
       "      <td>POST</td>\n",
       "      <td>POSTAGE</td>\n",
       "      <td>3</td>\n",
       "      <td>2010-12-01 08:45:00</td>\n",
       "      <td>18.0</td>\n",
       "      <td>12583.0</td>\n",
       "      <td>France</td>\n",
       "      <td>0</td>\n",
       "    </tr>\n",
       "    <tr>\n",
       "      <th>386</th>\n",
       "      <td>536403</td>\n",
       "      <td>POST</td>\n",
       "      <td>POSTAGE</td>\n",
       "      <td>1</td>\n",
       "      <td>2010-12-01 11:27:00</td>\n",
       "      <td>15.0</td>\n",
       "      <td>12791.0</td>\n",
       "      <td>Netherlands</td>\n",
       "      <td>0</td>\n",
       "    </tr>\n",
       "    <tr>\n",
       "      <th>1123</th>\n",
       "      <td>536527</td>\n",
       "      <td>POST</td>\n",
       "      <td>POSTAGE</td>\n",
       "      <td>1</td>\n",
       "      <td>2010-12-01 13:04:00</td>\n",
       "      <td>18.0</td>\n",
       "      <td>12662.0</td>\n",
       "      <td>Germany</td>\n",
       "      <td>0</td>\n",
       "    </tr>\n",
       "    <tr>\n",
       "      <th>5073</th>\n",
       "      <td>536840</td>\n",
       "      <td>POST</td>\n",
       "      <td>POSTAGE</td>\n",
       "      <td>1</td>\n",
       "      <td>2010-12-02 18:27:00</td>\n",
       "      <td>18.0</td>\n",
       "      <td>12738.0</td>\n",
       "      <td>Germany</td>\n",
       "      <td>0</td>\n",
       "    </tr>\n",
       "    <tr>\n",
       "      <th>5258</th>\n",
       "      <td>536852</td>\n",
       "      <td>POST</td>\n",
       "      <td>POSTAGE</td>\n",
       "      <td>1</td>\n",
       "      <td>2010-12-03 09:51:00</td>\n",
       "      <td>18.0</td>\n",
       "      <td>12686.0</td>\n",
       "      <td>France</td>\n",
       "      <td>0</td>\n",
       "    </tr>\n",
       "  </tbody>\n",
       "</table>\n",
       "</div>"
      ],
      "text/plain": [
       "     InvoiceNo StockCode Description  Quantity         InvoiceDate  UnitPrice  \\\n",
       "45      536370      POST     POSTAGE         3 2010-12-01 08:45:00       18.0   \n",
       "386     536403      POST     POSTAGE         1 2010-12-01 11:27:00       15.0   \n",
       "1123    536527      POST     POSTAGE         1 2010-12-01 13:04:00       18.0   \n",
       "5073    536840      POST     POSTAGE         1 2010-12-02 18:27:00       18.0   \n",
       "5258    536852      POST     POSTAGE         1 2010-12-03 09:51:00       18.0   \n",
       "\n",
       "      CustomerID      Country  Cancelled  \n",
       "45       12583.0       France          0  \n",
       "386      12791.0  Netherlands          0  \n",
       "1123     12662.0      Germany          0  \n",
       "5073     12738.0      Germany          0  \n",
       "5258     12686.0       France          0  "
      ]
     },
     "metadata": {},
     "output_type": "display_data"
    }
   ],
   "source": [
    "#check post stock code rows\n",
    "df[df['StockCode'] == 'POST'].head()\n"
   ]
  },
  {
   "cell_type": "code",
   "execution_count": null,
   "metadata": {},
   "outputs": [
    {
     "data": {
      "text/html": [
       "<div>\n",
       "<style scoped>\n",
       "    .dataframe tbody tr th:only-of-type {\n",
       "        vertical-align: middle;\n",
       "    }\n",
       "\n",
       "    .dataframe tbody tr th {\n",
       "        vertical-align: top;\n",
       "    }\n",
       "\n",
       "    .dataframe thead th {\n",
       "        text-align: right;\n",
       "    }\n",
       "</style>\n",
       "<table border=\"1\" class=\"dataframe\">\n",
       "  <thead>\n",
       "    <tr style=\"text-align: right;\">\n",
       "      <th></th>\n",
       "      <th>InvoiceNo</th>\n",
       "      <th>StockCode</th>\n",
       "      <th>Description</th>\n",
       "      <th>Quantity</th>\n",
       "      <th>InvoiceDate</th>\n",
       "      <th>UnitPrice</th>\n",
       "      <th>CustomerID</th>\n",
       "      <th>Country</th>\n",
       "      <th>Cancelled</th>\n",
       "    </tr>\n",
       "  </thead>\n",
       "  <tbody>\n",
       "    <tr>\n",
       "      <th>141</th>\n",
       "      <td>C536379</td>\n",
       "      <td>D</td>\n",
       "      <td>Discount</td>\n",
       "      <td>-1</td>\n",
       "      <td>2010-12-01 09:41:00</td>\n",
       "      <td>27.50</td>\n",
       "      <td>14527.0</td>\n",
       "      <td>United Kingdom</td>\n",
       "      <td>1</td>\n",
       "    </tr>\n",
       "    <tr>\n",
       "      <th>9038</th>\n",
       "      <td>C537164</td>\n",
       "      <td>D</td>\n",
       "      <td>Discount</td>\n",
       "      <td>-1</td>\n",
       "      <td>2010-12-05 13:21:00</td>\n",
       "      <td>29.29</td>\n",
       "      <td>14527.0</td>\n",
       "      <td>United Kingdom</td>\n",
       "      <td>1</td>\n",
       "    </tr>\n",
       "    <tr>\n",
       "      <th>14498</th>\n",
       "      <td>C537597</td>\n",
       "      <td>D</td>\n",
       "      <td>Discount</td>\n",
       "      <td>-1</td>\n",
       "      <td>2010-12-07 12:34:00</td>\n",
       "      <td>281.00</td>\n",
       "      <td>15498.0</td>\n",
       "      <td>United Kingdom</td>\n",
       "      <td>1</td>\n",
       "    </tr>\n",
       "    <tr>\n",
       "      <th>19392</th>\n",
       "      <td>C537857</td>\n",
       "      <td>D</td>\n",
       "      <td>Discount</td>\n",
       "      <td>-1</td>\n",
       "      <td>2010-12-08 16:00:00</td>\n",
       "      <td>267.12</td>\n",
       "      <td>17340.0</td>\n",
       "      <td>United Kingdom</td>\n",
       "      <td>1</td>\n",
       "    </tr>\n",
       "    <tr>\n",
       "      <th>31134</th>\n",
       "      <td>C538897</td>\n",
       "      <td>D</td>\n",
       "      <td>Discount</td>\n",
       "      <td>-1</td>\n",
       "      <td>2010-12-15 09:14:00</td>\n",
       "      <td>5.76</td>\n",
       "      <td>16422.0</td>\n",
       "      <td>United Kingdom</td>\n",
       "      <td>1</td>\n",
       "    </tr>\n",
       "  </tbody>\n",
       "</table>\n",
       "</div>"
      ],
      "text/plain": [
       "      InvoiceNo StockCode Description  Quantity         InvoiceDate  \\\n",
       "141     C536379         D    Discount        -1 2010-12-01 09:41:00   \n",
       "9038    C537164         D    Discount        -1 2010-12-05 13:21:00   \n",
       "14498   C537597         D    Discount        -1 2010-12-07 12:34:00   \n",
       "19392   C537857         D    Discount        -1 2010-12-08 16:00:00   \n",
       "31134   C538897         D    Discount        -1 2010-12-15 09:14:00   \n",
       "\n",
       "       UnitPrice  CustomerID         Country  Cancelled  \n",
       "141        27.50     14527.0  United Kingdom          1  \n",
       "9038       29.29     14527.0  United Kingdom          1  \n",
       "14498     281.00     15498.0  United Kingdom          1  \n",
       "19392     267.12     17340.0  United Kingdom          1  \n",
       "31134       5.76     16422.0  United Kingdom          1  "
      ]
     },
     "metadata": {},
     "output_type": "display_data"
    }
   ],
   "source": [
    "#check d stock code rows\n",
    "df[df['StockCode'] == 'D'].head()"
   ]
  },
  {
   "cell_type": "code",
   "execution_count": null,
   "metadata": {},
   "outputs": [
    {
     "data": {
      "text/html": [
       "<div>\n",
       "<style scoped>\n",
       "    .dataframe tbody tr th:only-of-type {\n",
       "        vertical-align: middle;\n",
       "    }\n",
       "\n",
       "    .dataframe tbody tr th {\n",
       "        vertical-align: top;\n",
       "    }\n",
       "\n",
       "    .dataframe thead th {\n",
       "        text-align: right;\n",
       "    }\n",
       "</style>\n",
       "<table border=\"1\" class=\"dataframe\">\n",
       "  <thead>\n",
       "    <tr style=\"text-align: right;\">\n",
       "      <th></th>\n",
       "      <th>InvoiceNo</th>\n",
       "      <th>StockCode</th>\n",
       "      <th>Description</th>\n",
       "      <th>Quantity</th>\n",
       "      <th>InvoiceDate</th>\n",
       "      <th>UnitPrice</th>\n",
       "      <th>CustomerID</th>\n",
       "      <th>Country</th>\n",
       "      <th>Cancelled</th>\n",
       "    </tr>\n",
       "  </thead>\n",
       "  <tbody>\n",
       "    <tr>\n",
       "      <th>1423</th>\n",
       "      <td>536540</td>\n",
       "      <td>C2</td>\n",
       "      <td>CARRIAGE</td>\n",
       "      <td>1</td>\n",
       "      <td>2010-12-01 14:05:00</td>\n",
       "      <td>50.0</td>\n",
       "      <td>14911.0</td>\n",
       "      <td>EIRE</td>\n",
       "      <td>0</td>\n",
       "    </tr>\n",
       "    <tr>\n",
       "      <th>12119</th>\n",
       "      <td>537368</td>\n",
       "      <td>C2</td>\n",
       "      <td>CARRIAGE</td>\n",
       "      <td>1</td>\n",
       "      <td>2010-12-06 12:40:00</td>\n",
       "      <td>50.0</td>\n",
       "      <td>14911.0</td>\n",
       "      <td>EIRE</td>\n",
       "      <td>0</td>\n",
       "    </tr>\n",
       "    <tr>\n",
       "      <th>12452</th>\n",
       "      <td>537378</td>\n",
       "      <td>C2</td>\n",
       "      <td>CARRIAGE</td>\n",
       "      <td>1</td>\n",
       "      <td>2010-12-06 13:06:00</td>\n",
       "      <td>50.0</td>\n",
       "      <td>14911.0</td>\n",
       "      <td>EIRE</td>\n",
       "      <td>0</td>\n",
       "    </tr>\n",
       "    <tr>\n",
       "      <th>19975</th>\n",
       "      <td>537963</td>\n",
       "      <td>C2</td>\n",
       "      <td>CARRIAGE</td>\n",
       "      <td>1</td>\n",
       "      <td>2010-12-09 11:30:00</td>\n",
       "      <td>50.0</td>\n",
       "      <td>13369.0</td>\n",
       "      <td>United Kingdom</td>\n",
       "      <td>0</td>\n",
       "    </tr>\n",
       "    <tr>\n",
       "      <th>20016</th>\n",
       "      <td>538002</td>\n",
       "      <td>C2</td>\n",
       "      <td>CARRIAGE</td>\n",
       "      <td>1</td>\n",
       "      <td>2010-12-09 11:48:00</td>\n",
       "      <td>50.0</td>\n",
       "      <td>14932.0</td>\n",
       "      <td>Channel Islands</td>\n",
       "      <td>0</td>\n",
       "    </tr>\n",
       "  </tbody>\n",
       "</table>\n",
       "</div>"
      ],
      "text/plain": [
       "      InvoiceNo StockCode Description  Quantity         InvoiceDate  \\\n",
       "1423     536540        C2    CARRIAGE         1 2010-12-01 14:05:00   \n",
       "12119    537368        C2    CARRIAGE         1 2010-12-06 12:40:00   \n",
       "12452    537378        C2    CARRIAGE         1 2010-12-06 13:06:00   \n",
       "19975    537963        C2    CARRIAGE         1 2010-12-09 11:30:00   \n",
       "20016    538002        C2    CARRIAGE         1 2010-12-09 11:48:00   \n",
       "\n",
       "       UnitPrice  CustomerID          Country  Cancelled  \n",
       "1423        50.0     14911.0             EIRE          0  \n",
       "12119       50.0     14911.0             EIRE          0  \n",
       "12452       50.0     14911.0             EIRE          0  \n",
       "19975       50.0     13369.0   United Kingdom          0  \n",
       "20016       50.0     14932.0  Channel Islands          0  "
      ]
     },
     "metadata": {},
     "output_type": "display_data"
    }
   ],
   "source": [
    "df[df['StockCode'] == 'C2'].head()"
   ]
  },
  {
   "cell_type": "code",
   "execution_count": null,
   "metadata": {},
   "outputs": [
    {
     "data": {
      "text/plain": [
       "0.4768378801007958"
      ]
     },
     "metadata": {},
     "output_type": "display_data"
    }
   ],
   "source": [
    "# Calculating the percentage of records with these stock codes\n",
    "percentage_anomalous = (df['StockCode'].isin(anomalous_stock_codes).sum() / len(df)) * 100\n",
    "percentage_anomalous"
   ]
  },
  {
   "cell_type": "markdown",
   "metadata": {},
   "source": [
    "Upon reviewing the dataset, we've identified special stock codes like 'POST' for postage costs, 'D' for discounts, and 'C2' for carriage charges. These entries, while important for full transactional records, do not represent physical product sales. They account for only 0.48% of the total transactions.\n",
    "\n",
    "Rationale for Exclusion:\n",
    "\n",
    "- Product-Centric Analysis: Our primary focus is on analyzing product sales data. Including service fees and discounts would not contribute to insights on product trends or customer purchasing behavior.\n",
    "- Noise Reduction: Excluding these codes prevents the distortion of product-centric metrics and models, ensuring a more accurate representation of inventory and sales performance.\n",
    "- Clarity in Financials: While crucial for financial reporting, these service-related codes are peripheral to analyses aimed at understanding product popularity or stock management.\n",
    "\n",
    "Given their negligible proportion and potential to introduce noise into product-focused analyses, we have decided to remove these entries from the product transaction dataset. This strategic exclusion enhances the accuracy and relevance of our findings, concentrating our efforts on genuine product transactions."
   ]
  },
  {
   "cell_type": "code",
   "execution_count": null,
   "metadata": {},
   "outputs": [
    {
     "data": {
      "text/plain": [
       "(399689, 9)"
      ]
     },
     "metadata": {},
     "output_type": "display_data"
    }
   ],
   "source": [
    "#Removing the rows with the anomalous stock codes\n",
    "df = df[~df['StockCode'].isin(anomalous_stock_codes)]\n",
    "df = pd.DataFrame(filter(lambda x: x['StockCode'] not in anomalous_stock_codes, df.to_dict('records')))\n",
    "df.shape"
   ]
  },
  {
   "cell_type": "code",
   "execution_count": null,
   "metadata": {},
   "outputs": [
    {
     "data": {
      "text/plain": [
       "WHITE HANGING HEART T-LIGHT HOLDER    2058\n",
       "REGENCY CAKESTAND 3 TIER              1894\n",
       "JUMBO BAG RED RETROSPOT               1659\n",
       "PARTY BUNTING                         1409\n",
       "ASSORTED COLOUR BIRD ORNAMENT         1405\n",
       "                                      ... \n",
       "FRYING PAN RED POLKADOT                  1\n",
       "PEG BAG APPLE DESIGN                     1\n",
       "PINK POLKADOT KIDS BAG                   1\n",
       "BLACK DIAMOND CLUSTER NECKLACE           1\n",
       "SET 12 COLOURING PENCILS DOILEY          1\n",
       "Name: Description, Length: 3888, dtype: int64"
      ]
     },
     "metadata": {},
     "output_type": "display_data"
    }
   ],
   "source": [
    "#Description\n",
    "description_values = df['Description'].value_counts()\n",
    "description_values"
   ]
  },
  {
   "cell_type": "code",
   "execution_count": null,
   "metadata": {},
   "outputs": [
    {
     "data": {
      "text/plain": [
       "<Axes: >"
      ]
     },
     "metadata": {},
     "output_type": "display_data"
    },
    {
     "data": {
      "image/png": "[encoded data removed]",
      "text/plain": [
       "<Figure size 1000x600 with 1 Axes>"
      ]
     },
     "metadata": {},
     "output_type": "display_data"
    }
   ],
   "source": [
    "#plot the top 15 most frequent descriptions orizontal bar plot ordered by frequency\n",
    "plt.figure(figsize=(10,6))\n",
    "description_values.head(20).sort_values(ascending=True).plot(kind='barh')"
   ]
  },
  {
   "cell_type": "code",
   "execution_count": null,
   "metadata": {},
   "outputs": [
    {
     "data": {
      "text/plain": [
       "False"
      ]
     },
     "metadata": {},
     "output_type": "display_data"
    }
   ],
   "source": [
    "#check if all the descriptions are in upper case\n",
    "df['Description'].str.isupper().all()"
   ]
  },
  {
   "cell_type": "code",
   "execution_count": null,
   "metadata": {},
   "outputs": [
    {
     "data": {
      "text/plain": [
       "BAG 125g SWIRLY MARBLES                252\n",
       "3 TRADITIONAl BISCUIT CUTTERS  SET     207\n",
       "BAG 250g SWIRLY MARBLES                201\n",
       "POLYESTER FILLER PAD 40x40cm           185\n",
       "POLYESTER FILLER PAD 45x45cm           135\n",
       "BAG 500g SWIRLY MARBLES                115\n",
       "Next Day Carriage                       80\n",
       "FRENCH BLUE METAL DOOR SIGN No          75\n",
       "POLYESTER FILLER PAD 45x30cm            37\n",
       "POLYESTER FILLER PAD 30CMx30CM          26\n",
       "ESSENTIAL BALM 3.5g TIN IN ENVELOPE     18\n",
       "NUMBER TILE COTTAGE GARDEN No           12\n",
       "FOLK ART GREETING CARD,pack/12          10\n",
       "NUMBER TILE VINTAGE FONT No              7\n",
       "THE KING GIFT BAG 25x24x12cm             7\n",
       "POLYESTER FILLER PAD 65CMx65CM           5\n",
       "FLOWERS HANDBAG blue and orange          3\n",
       "High Resolution Image                    3\n",
       "POLYESTER FILLER PAD 60x40cm             1\n",
       "Name: Description, dtype: int64"
      ]
     },
     "metadata": {},
     "output_type": "display_data"
    }
   ],
   "source": [
    "#get the non upper case descriptions\n",
    "non_upper_case_descriptions = df[~df['Description'].str.isupper()]\n",
    "non_upper_case_descriptions['Description'].value_counts()"
   ]
  },
  {
   "cell_type": "code",
   "execution_count": null,
   "metadata": {},
   "outputs": [
    {
     "data": {
      "text/html": [
       "<div>\n",
       "<style scoped>\n",
       "    .dataframe tbody tr th:only-of-type {\n",
       "        vertical-align: middle;\n",
       "    }\n",
       "\n",
       "    .dataframe tbody tr th {\n",
       "        vertical-align: top;\n",
       "    }\n",
       "\n",
       "    .dataframe thead th {\n",
       "        text-align: right;\n",
       "    }\n",
       "</style>\n",
       "<table border=\"1\" class=\"dataframe\">\n",
       "  <thead>\n",
       "    <tr style=\"text-align: right;\">\n",
       "      <th></th>\n",
       "      <th>InvoiceNo</th>\n",
       "      <th>StockCode</th>\n",
       "      <th>Description</th>\n",
       "      <th>Quantity</th>\n",
       "      <th>InvoiceDate</th>\n",
       "      <th>UnitPrice</th>\n",
       "      <th>CustomerID</th>\n",
       "      <th>Country</th>\n",
       "      <th>Cancelled</th>\n",
       "    </tr>\n",
       "  </thead>\n",
       "  <tbody>\n",
       "    <tr>\n",
       "      <th>144018</th>\n",
       "      <td>554835</td>\n",
       "      <td>23444</td>\n",
       "      <td>Next Day Carriage</td>\n",
       "      <td>1</td>\n",
       "      <td>2011-05-26 16:11:00</td>\n",
       "      <td>15.0</td>\n",
       "      <td>15241.0</td>\n",
       "      <td>United Kingdom</td>\n",
       "      <td>0</td>\n",
       "    </tr>\n",
       "    <tr>\n",
       "      <th>147145</th>\n",
       "      <td>555251</td>\n",
       "      <td>23444</td>\n",
       "      <td>Next Day Carriage</td>\n",
       "      <td>1</td>\n",
       "      <td>2011-06-01 15:12:00</td>\n",
       "      <td>15.0</td>\n",
       "      <td>13062.0</td>\n",
       "      <td>United Kingdom</td>\n",
       "      <td>0</td>\n",
       "    </tr>\n",
       "    <tr>\n",
       "      <th>147534</th>\n",
       "      <td>555312</td>\n",
       "      <td>23444</td>\n",
       "      <td>Next Day Carriage</td>\n",
       "      <td>1</td>\n",
       "      <td>2011-06-02 10:39:00</td>\n",
       "      <td>15.0</td>\n",
       "      <td>16484.0</td>\n",
       "      <td>United Kingdom</td>\n",
       "      <td>0</td>\n",
       "    </tr>\n",
       "    <tr>\n",
       "      <th>147881</th>\n",
       "      <td>555367</td>\n",
       "      <td>23444</td>\n",
       "      <td>Next Day Carriage</td>\n",
       "      <td>1</td>\n",
       "      <td>2011-06-02 14:28:00</td>\n",
       "      <td>15.0</td>\n",
       "      <td>17900.0</td>\n",
       "      <td>United Kingdom</td>\n",
       "      <td>0</td>\n",
       "    </tr>\n",
       "    <tr>\n",
       "      <th>153445</th>\n",
       "      <td>555948</td>\n",
       "      <td>23444</td>\n",
       "      <td>Next Day Carriage</td>\n",
       "      <td>1</td>\n",
       "      <td>2011-06-08 10:49:00</td>\n",
       "      <td>30.0</td>\n",
       "      <td>13752.0</td>\n",
       "      <td>United Kingdom</td>\n",
       "      <td>0</td>\n",
       "    </tr>\n",
       "    <tr>\n",
       "      <th>...</th>\n",
       "      <td>...</td>\n",
       "      <td>...</td>\n",
       "      <td>...</td>\n",
       "      <td>...</td>\n",
       "      <td>...</td>\n",
       "      <td>...</td>\n",
       "      <td>...</td>\n",
       "      <td>...</td>\n",
       "      <td>...</td>\n",
       "    </tr>\n",
       "    <tr>\n",
       "      <th>389101</th>\n",
       "      <td>580622</td>\n",
       "      <td>23444</td>\n",
       "      <td>Next Day Carriage</td>\n",
       "      <td>1</td>\n",
       "      <td>2011-12-05 12:09:00</td>\n",
       "      <td>15.0</td>\n",
       "      <td>17006.0</td>\n",
       "      <td>United Kingdom</td>\n",
       "      <td>0</td>\n",
       "    </tr>\n",
       "    <tr>\n",
       "      <th>389114</th>\n",
       "      <td>580630</td>\n",
       "      <td>23444</td>\n",
       "      <td>Next Day Carriage</td>\n",
       "      <td>1</td>\n",
       "      <td>2011-12-05 12:11:00</td>\n",
       "      <td>15.0</td>\n",
       "      <td>12913.0</td>\n",
       "      <td>United Kingdom</td>\n",
       "      <td>0</td>\n",
       "    </tr>\n",
       "    <tr>\n",
       "      <th>395331</th>\n",
       "      <td>581132</td>\n",
       "      <td>23444</td>\n",
       "      <td>Next Day Carriage</td>\n",
       "      <td>1</td>\n",
       "      <td>2011-12-07 12:55:00</td>\n",
       "      <td>15.0</td>\n",
       "      <td>17590.0</td>\n",
       "      <td>United Kingdom</td>\n",
       "      <td>0</td>\n",
       "    </tr>\n",
       "    <tr>\n",
       "      <th>396617</th>\n",
       "      <td>581221</td>\n",
       "      <td>23444</td>\n",
       "      <td>Next Day Carriage</td>\n",
       "      <td>1</td>\n",
       "      <td>2011-12-08 09:40:00</td>\n",
       "      <td>15.0</td>\n",
       "      <td>17856.0</td>\n",
       "      <td>United Kingdom</td>\n",
       "      <td>0</td>\n",
       "    </tr>\n",
       "    <tr>\n",
       "      <th>397256</th>\n",
       "      <td>581336</td>\n",
       "      <td>23444</td>\n",
       "      <td>Next Day Carriage</td>\n",
       "      <td>1</td>\n",
       "      <td>2011-12-08 12:10:00</td>\n",
       "      <td>15.0</td>\n",
       "      <td>16161.0</td>\n",
       "      <td>United Kingdom</td>\n",
       "      <td>0</td>\n",
       "    </tr>\n",
       "  </tbody>\n",
       "</table>\n",
       "<p>80 rows × 9 columns</p>\n",
       "</div>"
      ],
      "text/plain": [
       "       InvoiceNo StockCode        Description  Quantity         InvoiceDate  \\\n",
       "144018    554835     23444  Next Day Carriage         1 2011-05-26 16:11:00   \n",
       "147145    555251     23444  Next Day Carriage         1 2011-06-01 15:12:00   \n",
       "147534    555312     23444  Next Day Carriage         1 2011-06-02 10:39:00   \n",
       "147881    555367     23444  Next Day Carriage         1 2011-06-02 14:28:00   \n",
       "153445    555948     23444  Next Day Carriage         1 2011-06-08 10:49:00   \n",
       "...          ...       ...                ...       ...                 ...   \n",
       "389101    580622     23444  Next Day Carriage         1 2011-12-05 12:09:00   \n",
       "389114    580630     23444  Next Day Carriage         1 2011-12-05 12:11:00   \n",
       "395331    581132     23444  Next Day Carriage         1 2011-12-07 12:55:00   \n",
       "396617    581221     23444  Next Day Carriage         1 2011-12-08 09:40:00   \n",
       "397256    581336     23444  Next Day Carriage         1 2011-12-08 12:10:00   \n",
       "\n",
       "        UnitPrice  CustomerID         Country  Cancelled  \n",
       "144018       15.0     15241.0  United Kingdom          0  \n",
       "147145       15.0     13062.0  United Kingdom          0  \n",
       "147534       15.0     16484.0  United Kingdom          0  \n",
       "147881       15.0     17900.0  United Kingdom          0  \n",
       "153445       30.0     13752.0  United Kingdom          0  \n",
       "...           ...         ...             ...        ...  \n",
       "389101       15.0     17006.0  United Kingdom          0  \n",
       "389114       15.0     12913.0  United Kingdom          0  \n",
       "395331       15.0     17590.0  United Kingdom          0  \n",
       "396617       15.0     17856.0  United Kingdom          0  \n",
       "397256       15.0     16161.0  United Kingdom          0  \n",
       "\n",
       "[80 rows x 9 columns]"
      ]
     },
     "metadata": {},
     "output_type": "display_data"
    }
   ],
   "source": [
    "non_upper_case_descriptions[non_upper_case_descriptions['Description']== 'Next Day Carriage']"
   ]
  },
  {
   "cell_type": "code",
   "execution_count": null,
   "metadata": {},
   "outputs": [
    {
     "data": {
      "text/html": [
       "<div>\n",
       "<style scoped>\n",
       "    .dataframe tbody tr th:only-of-type {\n",
       "        vertical-align: middle;\n",
       "    }\n",
       "\n",
       "    .dataframe tbody tr th {\n",
       "        vertical-align: top;\n",
       "    }\n",
       "\n",
       "    .dataframe thead th {\n",
       "        text-align: right;\n",
       "    }\n",
       "</style>\n",
       "<table border=\"1\" class=\"dataframe\">\n",
       "  <thead>\n",
       "    <tr style=\"text-align: right;\">\n",
       "      <th></th>\n",
       "      <th>InvoiceNo</th>\n",
       "      <th>StockCode</th>\n",
       "      <th>Description</th>\n",
       "      <th>Quantity</th>\n",
       "      <th>InvoiceDate</th>\n",
       "      <th>UnitPrice</th>\n",
       "      <th>CustomerID</th>\n",
       "      <th>Country</th>\n",
       "      <th>Cancelled</th>\n",
       "    </tr>\n",
       "  </thead>\n",
       "  <tbody>\n",
       "    <tr>\n",
       "      <th>297478</th>\n",
       "      <td>571739</td>\n",
       "      <td>23702</td>\n",
       "      <td>High Resolution Image</td>\n",
       "      <td>1</td>\n",
       "      <td>2011-10-19 10:33:00</td>\n",
       "      <td>3.0</td>\n",
       "      <td>12500.0</td>\n",
       "      <td>Germany</td>\n",
       "      <td>0</td>\n",
       "    </tr>\n",
       "    <tr>\n",
       "      <th>341145</th>\n",
       "      <td>575910</td>\n",
       "      <td>23702</td>\n",
       "      <td>High Resolution Image</td>\n",
       "      <td>2</td>\n",
       "      <td>2011-11-11 16:05:00</td>\n",
       "      <td>1.5</td>\n",
       "      <td>14836.0</td>\n",
       "      <td>United Kingdom</td>\n",
       "      <td>0</td>\n",
       "    </tr>\n",
       "    <tr>\n",
       "      <th>349663</th>\n",
       "      <td>576659</td>\n",
       "      <td>23702</td>\n",
       "      <td>High Resolution Image</td>\n",
       "      <td>1</td>\n",
       "      <td>2011-11-16 11:09:00</td>\n",
       "      <td>21.0</td>\n",
       "      <td>15373.0</td>\n",
       "      <td>United Kingdom</td>\n",
       "      <td>0</td>\n",
       "    </tr>\n",
       "  </tbody>\n",
       "</table>\n",
       "</div>"
      ],
      "text/plain": [
       "       InvoiceNo StockCode            Description  Quantity  \\\n",
       "297478    571739     23702  High Resolution Image         1   \n",
       "341145    575910     23702  High Resolution Image         2   \n",
       "349663    576659     23702  High Resolution Image         1   \n",
       "\n",
       "               InvoiceDate  UnitPrice  CustomerID         Country  Cancelled  \n",
       "297478 2011-10-19 10:33:00        3.0     12500.0         Germany          0  \n",
       "341145 2011-11-11 16:05:00        1.5     14836.0  United Kingdom          0  \n",
       "349663 2011-11-16 11:09:00       21.0     15373.0  United Kingdom          0  "
      ]
     },
     "metadata": {},
     "output_type": "display_data"
    }
   ],
   "source": [
    "non_upper_case_descriptions[non_upper_case_descriptions['Description']== 'High Resolution Image']"
   ]
  },
  {
   "cell_type": "code",
   "execution_count": null,
   "metadata": {},
   "outputs": [
    {
     "data": {
      "text/plain": [
       "0.34501825169068956"
      ]
     },
     "metadata": {},
     "output_type": "display_data"
    }
   ],
   "source": [
    "#let's calculate the percentage of non upper case descriptions\n",
    "(non_upper_case_descriptions.shape[0]/df.shape[0])*100"
   ]
  },
  {
   "cell_type": "markdown",
   "metadata": {},
   "source": [
    "An inspection of the product descriptions has revealed the presence of lowercase entries which appear to be anomalies within our dataset. Notably, descriptions such as 'Next Day Carriage' and 'High Resolution Image' do not align with the standard product offerings of FarTrend and are likely to represent service fees or digital goods.\n",
    "\n",
    "Proposed Strategy:\n",
    "- Service charges like 'Next Day Carriage' and operational items such as 'High Resolution Image' do not correlate with physical products and therefore will be excluded. This ensures that our analysis focuses solely on tangible goods, which are the primary interest for our customer segmentation and recommendation system.\n",
    "\n",
    "- Normalize the remaining product descriptions to uppercase. This standardization avoids the complication of case-sensitive duplicity and fosters uniformity, facilitating more accurate data analysis and model performance.\n",
    "\n",
    "The execution of this strategy will refine our dataset, rendering it more amenable to the sophisticated analytical techniques we plan to employ. The end result will be a more precise and dependable basis for our machine learning endeavors, directly supporting the strategic goals of personalized marketing and improved customer experience at FarTrend\n"
   ]
  },
  {
   "cell_type": "code",
   "execution_count": null,
   "metadata": {},
   "outputs": [
    {
     "data": {
      "text/plain": [
       "(399606, 9)"
      ]
     },
     "metadata": {},
     "output_type": "display_data"
    }
   ],
   "source": [
    "#removing the 'Next Day Carriage' and 'High Resolution Image' rows\n",
    "df = df[df['Description'] != 'Next Day Carriage']\n",
    "df = df[df['Description']!= 'High Resolution Image']\n",
    "\n",
    "#transforming th other rows in upper case\n",
    "df['Description'] = df['Description'].str.upper()\n",
    "df.shape"
   ]
  },
  {
   "cell_type": "code",
   "execution_count": null,
   "metadata": {},
   "outputs": [],
   "source": [
    "#EDA OF THE NUMERICAL VARIABLES: UnitPrice, Quantity"
   ]
  },
  {
   "cell_type": "code",
   "execution_count": null,
   "metadata": {},
   "outputs": [
    {
     "data": {
      "text/plain": [
       "count    399606.000000\n",
       "mean          2.904957\n",
       "std           4.448796\n",
       "min           0.000000\n",
       "25%           1.250000\n",
       "50%           1.950000\n",
       "75%           3.750000\n",
       "max         649.500000\n",
       "Name: UnitPrice, dtype: float64"
      ]
     },
     "metadata": {},
     "output_type": "display_data"
    }
   ],
   "source": [
    "df['UnitPrice'].describe()"
   ]
  },
  {
   "cell_type": "markdown",
   "metadata": {},
   "source": [
    "The descriptive statistics for UnitPrice suggest that the average price of products is relatively low at around 2.90 units of currency, with half of the products priced at or below 1.95. However, there is notable variability in product prices, as indicated by a standard deviation of approximately 4.45, and a range that extends to a maximum of 649.50, which implies the presence of high-priced items in the catalogue that could significantly skew the average.\n",
    "\n",
    "\n",
    "The presence of a minimum unit price of 0.00 warrants further investigation, as this could indicate instances of giveaways, data entry errors, or special promotions that effectively reduce the price to nothing. Understanding the nature of these zero-priced transactions is crucial, as they may need to be treated separately in the analysis to avoid distorting the overall pricing trends and the predictive modeling of customer behavior.\n"
   ]
  },
  {
   "cell_type": "code",
   "execution_count": null,
   "metadata": {},
   "outputs": [
    {
     "data": {
      "text/html": [
       "<div>\n",
       "<style scoped>\n",
       "    .dataframe tbody tr th:only-of-type {\n",
       "        vertical-align: middle;\n",
       "    }\n",
       "\n",
       "    .dataframe tbody tr th {\n",
       "        vertical-align: top;\n",
       "    }\n",
       "\n",
       "    .dataframe thead th {\n",
       "        text-align: right;\n",
       "    }\n",
       "</style>\n",
       "<table border=\"1\" class=\"dataframe\">\n",
       "  <thead>\n",
       "    <tr style=\"text-align: right;\">\n",
       "      <th></th>\n",
       "      <th>Quantity</th>\n",
       "      <th>Cancelled</th>\n",
       "    </tr>\n",
       "  </thead>\n",
       "  <tbody>\n",
       "    <tr>\n",
       "      <th>count</th>\n",
       "      <td>33.000000</td>\n",
       "      <td>33.0</td>\n",
       "    </tr>\n",
       "    <tr>\n",
       "      <th>mean</th>\n",
       "      <td>420.515152</td>\n",
       "      <td>0.0</td>\n",
       "    </tr>\n",
       "    <tr>\n",
       "      <th>std</th>\n",
       "      <td>2176.713608</td>\n",
       "      <td>0.0</td>\n",
       "    </tr>\n",
       "    <tr>\n",
       "      <th>min</th>\n",
       "      <td>1.000000</td>\n",
       "      <td>0.0</td>\n",
       "    </tr>\n",
       "    <tr>\n",
       "      <th>25%</th>\n",
       "      <td>2.000000</td>\n",
       "      <td>0.0</td>\n",
       "    </tr>\n",
       "    <tr>\n",
       "      <th>50%</th>\n",
       "      <td>11.000000</td>\n",
       "      <td>0.0</td>\n",
       "    </tr>\n",
       "    <tr>\n",
       "      <th>75%</th>\n",
       "      <td>36.000000</td>\n",
       "      <td>0.0</td>\n",
       "    </tr>\n",
       "    <tr>\n",
       "      <th>max</th>\n",
       "      <td>12540.000000</td>\n",
       "      <td>0.0</td>\n",
       "    </tr>\n",
       "  </tbody>\n",
       "</table>\n",
       "</div>"
      ],
      "text/plain": [
       "           Quantity  Cancelled\n",
       "count     33.000000       33.0\n",
       "mean     420.515152        0.0\n",
       "std     2176.713608        0.0\n",
       "min        1.000000        0.0\n",
       "25%        2.000000        0.0\n",
       "50%       11.000000        0.0\n",
       "75%       36.000000        0.0\n",
       "max    12540.000000        0.0"
      ]
     },
     "metadata": {},
     "output_type": "display_data"
    }
   ],
   "source": [
    "#Let's check the description for the rows with the minimum unit price\n",
    "df[df['UnitPrice']== 0].describe() [['Quantity', 'Cancelled']]"
   ]
  },
  {
   "cell_type": "markdown",
   "metadata": {},
   "source": [
    "The transactions with a UnitPrice of 0 represent a very small subset of the data, and their exclusion is unlikely to significantly impact the dataset given the count of 33. The high standard deviation in Quantity suggests a wide variance in the volume of items involved in these zero-priced transactions. Since none of these transactions are marked as cancelled, they are not corrections or cancellations but actual transactions where goods were exchanged without monetary cost. Removing these entries will help to maintain the integrity of the dataset and the reliability of any statistical or machine learning models, which would assume a positive cost of goods sold in a standard e-commerce environment."
   ]
  },
  {
   "cell_type": "code",
   "execution_count": null,
   "metadata": {},
   "outputs": [
    {
     "data": {
      "text/plain": [
       "(399573, 9)"
      ]
     },
     "metadata": {},
     "output_type": "display_data"
    }
   ],
   "source": [
    "#removing the rows with the unit price = 0\n",
    "df = df[df['UnitPrice'] > 0]\n",
    "df.shape"
   ]
  },
  {
   "cell_type": "code",
   "execution_count": null,
   "metadata": {},
   "outputs": [],
   "source": [
    "#reset the index\n",
    "df = df.reset_index(drop=True)"
   ]
  },
  {
   "cell_type": "code",
   "execution_count": null,
   "metadata": {},
   "outputs": [
    {
     "data": {
      "text/html": [
       "<div>\n",
       "<style scoped>\n",
       "    .dataframe tbody tr th:only-of-type {\n",
       "        vertical-align: middle;\n",
       "    }\n",
       "\n",
       "    .dataframe tbody tr th {\n",
       "        vertical-align: top;\n",
       "    }\n",
       "\n",
       "    .dataframe thead th {\n",
       "        text-align: right;\n",
       "    }\n",
       "</style>\n",
       "<table border=\"1\" class=\"dataframe\">\n",
       "  <thead>\n",
       "    <tr style=\"text-align: right;\">\n",
       "      <th></th>\n",
       "      <th>InvoiceNo</th>\n",
       "      <th>StockCode</th>\n",
       "      <th>Description</th>\n",
       "      <th>Country</th>\n",
       "    </tr>\n",
       "  </thead>\n",
       "  <tbody>\n",
       "    <tr>\n",
       "      <th>count</th>\n",
       "      <td>399573</td>\n",
       "      <td>399573</td>\n",
       "      <td>399573</td>\n",
       "      <td>399573</td>\n",
       "    </tr>\n",
       "    <tr>\n",
       "      <th>unique</th>\n",
       "      <td>21781</td>\n",
       "      <td>3674</td>\n",
       "      <td>3886</td>\n",
       "      <td>37</td>\n",
       "    </tr>\n",
       "    <tr>\n",
       "      <th>top</th>\n",
       "      <td>576339</td>\n",
       "      <td>85123A</td>\n",
       "      <td>WHITE HANGING HEART T-LIGHT HOLDER</td>\n",
       "      <td>United Kingdom</td>\n",
       "    </tr>\n",
       "    <tr>\n",
       "      <th>freq</th>\n",
       "      <td>541</td>\n",
       "      <td>2065</td>\n",
       "      <td>2058</td>\n",
       "      <td>356008</td>\n",
       "    </tr>\n",
       "  </tbody>\n",
       "</table>\n",
       "</div>"
      ],
      "text/plain": [
       "       InvoiceNo StockCode                         Description         Country\n",
       "count     399573    399573                              399573          399573\n",
       "unique     21781      3674                                3886              37\n",
       "top       576339    85123A  WHITE HANGING HEART T-LIGHT HOLDER  United Kingdom\n",
       "freq         541      2065                                2058          356008"
      ]
     },
     "metadata": {},
     "output_type": "display_data"
    }
   ],
   "source": [
    "#categorical variables\n",
    "df.describe(include='object')"
   ]
  },
  {
   "cell_type": "markdown",
   "metadata": {},
   "source": [
    "The recent analysis shows that the number of unique stock codes and descriptions now closely aligns, reflecting significant progress in our data cleaning efforts. This crucial step ensures each product is accurately represented, setting the stage for more dependable analysis and modeling in our project."
   ]
  },
  {
   "cell_type": "markdown",
   "metadata": {},
   "source": [
    "OUTLIERS TREARTMENT\n",
    "\n",
    "In our K-means clustering approach, we must be mindful of the impact of outliers, which are particularly influential in the positioning of centroids, potentially distorting the resulting clusters. Our preliminary analysis indicates a substantial portion of these outliers corresponds to cancellation orders. This is evident in the 'Quantity' data, where cancellations show a high variance, with extremes such as a cancelled bulk order of -80,995 items. Similarly, the 'UnitPrice' data reveals significant fluctuations, including an exceptional cancellation involving an item valued at 38,970.\n",
    "\n",
    "Given the goal of understanding customer behavior through K-means clustering, addressing these outliers will be more effective after we transition from transactional data to a customer-centric view during feature engineering. This would allow us to evaluate the true behavioral patterns without prematurely discarding data that might be significant for segmenting customers—especially since cancellations, while outliers in transactional terms, could offer valuable insights into customer satisfaction and preferences. Thus, the treatment of outliers, particularly those linked with cancellations, will be deferred until we analyze the customer-based dataset, ensuring a robust foundation for our clustering strategy."
   ]
  },
  {
   "cell_type": "markdown",
   "metadata": {},
   "source": [
    "#### FEATURE ENGINEERING\n",
    "- Total Spend per Transaction: Multiplying Quantity by UnitPrice to calculate the total spend for each line item, and then summing this up per invoice could provide insights into customer spending habits.\n",
    "- Purchase Frequency: Counting the number of invoices per customer to understand how often they purchase.\n",
    "- Average Spend per Visit: Calculating the average spend per invoice for each customer could help identify high-value customers.\n",
    "- Product Variety per Transaction: Counting the number of unique StockCode or Description items per invoice to gauge the diversity of products a customer is interested in.\n",
    "- Time Since Last Purchase: For each customer, calculating the time elapsed since their last purchase could help in identifying churn risk.\n",
    "- Day of the Week and Hour of Purchase: Extracting day of the week and hour from InvoiceDate to understand peak shopping times and tailor marketing strategies accordingly.\n",
    "- Cancellation Rate: Calculating the proportion of transactions that are cancellations (Cancelled == 1) for each customer to assess satisfaction or operational issues.\n",
    "- Geographical Insights: Aggregating sales data by Country to identify key markets and tailor regional strategies.\n",
    "- Seasonality Trends: Analyzing InvoiceDate to identify trends in purchasing behavior across different times of the year.\n",
    "\n",
    "These features can provide a comprehensive view of customer engagement, preferences, and purchasing patterns, enabling targeted marketing efforts and improved customer segmentation. "
   ]
  },
  {
   "cell_type": "code",
   "execution_count": null,
   "metadata": {},
   "outputs": [
    {
     "data": {
      "text/html": [
       "<div>\n",
       "<style scoped>\n",
       "    .dataframe tbody tr th:only-of-type {\n",
       "        vertical-align: middle;\n",
       "    }\n",
       "\n",
       "    .dataframe tbody tr th {\n",
       "        vertical-align: top;\n",
       "    }\n",
       "\n",
       "    .dataframe thead th {\n",
       "        text-align: right;\n",
       "    }\n",
       "</style>\n",
       "<table border=\"1\" class=\"dataframe\">\n",
       "  <thead>\n",
       "    <tr style=\"text-align: right;\">\n",
       "      <th></th>\n",
       "      <th>CustomerID</th>\n",
       "      <th>TotalCustomerSpend</th>\n",
       "    </tr>\n",
       "  </thead>\n",
       "  <tbody>\n",
       "    <tr>\n",
       "      <th>0</th>\n",
       "      <td>17850.0</td>\n",
       "      <td>5303.48</td>\n",
       "    </tr>\n",
       "    <tr>\n",
       "      <th>1</th>\n",
       "      <td>13047.0</td>\n",
       "      <td>3089.10</td>\n",
       "    </tr>\n",
       "    <tr>\n",
       "      <th>2</th>\n",
       "      <td>12583.0</td>\n",
       "      <td>6629.34</td>\n",
       "    </tr>\n",
       "    <tr>\n",
       "      <th>3</th>\n",
       "      <td>13748.0</td>\n",
       "      <td>948.25</td>\n",
       "    </tr>\n",
       "    <tr>\n",
       "      <th>4</th>\n",
       "      <td>15100.0</td>\n",
       "      <td>635.10</td>\n",
       "    </tr>\n",
       "  </tbody>\n",
       "</table>\n",
       "</div>"
      ],
      "text/plain": [
       "   CustomerID  TotalCustomerSpend\n",
       "0     17850.0             5303.48\n",
       "1     13047.0             3089.10\n",
       "2     12583.0             6629.34\n",
       "3     13748.0              948.25\n",
       "4     15100.0              635.10"
      ]
     },
     "metadata": {},
     "output_type": "display_data"
    }
   ],
   "source": [
    "#1 - Tot spending per customer\n",
    "df['TotalSpend'] = df['Quantity'] * df['UnitPrice']\n",
    "\n",
    "#grouping by customer id\n",
    "total_spending_per_customer = df.groupby('CustomerID')['TotalSpend'].sum().reset_index().rename(columns={'TotalSpend': 'TotalCustomerSpend'})\n",
    "total_spending_per_customer.head()\n",
    "\n",
    "customer_df = pd.DataFrame(df['CustomerID'].unique(), columns=['CustomerID'])\n",
    "\n",
    "# Merge the TotalCustomerSpend into customer_df\n",
    "customer_df = customer_df.merge(total_spending_per_customer, on='CustomerID', how='left')\n",
    "\n",
    "customer_df.head()"
   ]
  },
  {
   "cell_type": "code",
   "execution_count": null,
   "metadata": {},
   "outputs": [],
   "source": []
  }
 ],
 "metadata": {
  "kernelspec": {
   "display_name": "base",
   "language": "python",
   "name": "python3"
  },
  "language_info": {
   "codemirror_mode": {
    "name": "ipython",
    "version": 3
   },
   "file_extension": ".py",
   "mimetype": "text/x-python",
   "name": "python",
   "nbconvert_exporter": "python",
   "pygments_lexer": "ipython3",
   "version": "3.11.3"
  },
  "orig_nbformat": 4
 },
 "nbformat": 4,
 "nbformat_minor": 2
}
